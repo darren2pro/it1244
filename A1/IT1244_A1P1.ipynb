{
  "cells": [
    {
      "cell_type": "markdown",
      "metadata": {
        "id": "mJINqwUGWv2J"
      },
      "source": [
        "# **A1P1: Python Questions for Beginners**"
      ]
    },
    {
      "cell_type": "markdown",
      "metadata": {
        "id": "BdI-ym0JeBFv"
      },
      "source": [
        "## **String manipulation**\n",
        "\n",
        "In python, a string is any symbol, character, or digit that is between two quotation marks. For example, `\"hi ?? &1\"` is a string, since it is between two quotation marks \". The quotation marks can also be two '."
      ]
    },
    {
      "cell_type": "markdown",
      "metadata": {
        "id": "YGTgue9sL4sc"
      },
      "source": [
        "### Q1\n",
        "\n",
        "**Print** the following `message` variable which contains string \"Hello World\". Then, **print the length** of this string variable by using the function `len()`."
      ]
    },
    {
      "cell_type": "code",
      "execution_count": 66,
      "metadata": {
        "id": "-gE1pLo4aFAK"
      },
      "outputs": [],
      "source": [
        "message = \"Hello World\""
      ]
    },
    {
      "cell_type": "code",
      "execution_count": 67,
      "metadata": {
        "id": "Pl3shSdtqwRq"
      },
      "outputs": [
        {
          "name": "stdout",
          "output_type": "stream",
          "text": [
            "Hello World\n",
            "11\n"
          ]
        }
      ],
      "source": [
        "# Write your code here [Coursemology]\n",
        "print(message)\n",
        "print(len(message))"
      ]
    },
    {
      "cell_type": "markdown",
      "metadata": {
        "id": "YzOGaNA0W5KC"
      },
      "source": [
        "### Q2\n",
        "\n",
        "Given two variables `part1` and `part2` containing string \"Spider\" and \"Man\", respectively, print the **concatenation** of these two variables so it prints \"SpiderMan\". We use + to concatenate two strings."
      ]
    },
    {
      "cell_type": "code",
      "execution_count": 68,
      "metadata": {
        "id": "h5VF4NojhuNc"
      },
      "outputs": [],
      "source": [
        "part1 = \"Spider\"\n",
        "part2 = \"Man\""
      ]
    },
    {
      "cell_type": "code",
      "execution_count": 69,
      "metadata": {
        "id": "u8AQX9VaMCO_"
      },
      "outputs": [
        {
          "name": "stdout",
          "output_type": "stream",
          "text": [
            "SpiderMan\n"
          ]
        }
      ],
      "source": [
        "# Write your code here [Coursemology]\n",
        "print(part1+part2)"
      ]
    },
    {
      "cell_type": "markdown",
      "metadata": {
        "id": "KYTkrdXdW6hx"
      },
      "source": [
        "### Q3\n",
        "\n",
        "Indexing a string is done by using square brackets. Print the first three letters of the variable `message` containing word \"hello\" by using **string indexation**.\n",
        "\n",
        "Hint: Be careful, in python, the first character of a string is indexed by 0 and not by 1. For example, if a string is `message = \"python\"`, then `message[0] = \"p\"`."
      ]
    },
    {
      "cell_type": "code",
      "execution_count": 70,
      "metadata": {
        "id": "8vQNutTqhxIY"
      },
      "outputs": [],
      "source": [
        "message = \"hello\""
      ]
    },
    {
      "cell_type": "code",
      "execution_count": 71,
      "metadata": {
        "id": "e2_qVAOcMKCV"
      },
      "outputs": [
        {
          "name": "stdout",
          "output_type": "stream",
          "text": [
            "hel\n"
          ]
        }
      ],
      "source": [
        "# Write your code here [Coursemology]\n",
        "print(message[0]+message[1]+message[2])"
      ]
    },
    {
      "cell_type": "markdown",
      "metadata": {
        "id": "1M33roTdW7r0"
      },
      "source": [
        "### Q4\n",
        "\n",
        "Print the `message` string variable from the 2nd letter to the 7th letter (inclusive) using **string slicing**. Hints: it should prints \"bracad\"."
      ]
    },
    {
      "cell_type": "code",
      "execution_count": 72,
      "metadata": {
        "id": "QE23Idc3hzj0"
      },
      "outputs": [],
      "source": [
        "message = \"abracadabra\""
      ]
    },
    {
      "cell_type": "code",
      "execution_count": 73,
      "metadata": {
        "id": "PtfToWXwMUiT"
      },
      "outputs": [
        {
          "name": "stdout",
          "output_type": "stream",
          "text": [
            "bracad\n"
          ]
        }
      ],
      "source": [
        "# Write your code here [Coursemology]\n",
        "print(message[1:7])"
      ]
    },
    {
      "cell_type": "markdown",
      "metadata": {
        "id": "OY2WNm8IW9ac"
      },
      "source": [
        "### Q5\n",
        "\n",
        "Print the following `message` string variable in **lowercase**, i.e., print the string \"SPIDERMAN\" as \"spiderman\".\n",
        "\n",
        "Hint: Check the python function `lower()`"
      ]
    },
    {
      "cell_type": "code",
      "execution_count": 74,
      "metadata": {
        "id": "7Bhra9csh17a"
      },
      "outputs": [],
      "source": [
        "message = \"SPIDERMAN\""
      ]
    },
    {
      "cell_type": "code",
      "execution_count": 75,
      "metadata": {
        "id": "ckHvu9LTMyy8"
      },
      "outputs": [
        {
          "name": "stdout",
          "output_type": "stream",
          "text": [
            "spiderman\n"
          ]
        }
      ],
      "source": [
        "# Write your code here [Coursemology]\n",
        "print(message.lower())"
      ]
    },
    {
      "cell_type": "markdown",
      "metadata": {
        "id": "a9Yfgp3dW-no"
      },
      "source": [
        "### Q6\n",
        "\n",
        "**Count** the number of letters, numbers and symbols in the given string. Note that space is not considered as symbols.\n",
        "\n",
        "Hint : You may use `for` loop to answer this question. In addition, you may also use the `isdigit()` and `isalpha()` functions to determine whether a character is a digit, alphanumeric, or otherwise. You may also use conditionals, i.e., `if/else` if necessary."
      ]
    },
    {
      "cell_type": "code",
      "execution_count": 76,
      "metadata": {
        "id": "P4kBTJHzh6eg"
      },
      "outputs": [],
      "source": [
        "message = \"one 1 two! 2 three four!4, 6,;7++9\""
      ]
    },
    {
      "cell_type": "code",
      "execution_count": 77,
      "metadata": {
        "colab": {
          "base_uri": "https://localhost:8080/"
        },
        "id": "OfkgiKuRM3O2",
        "outputId": "1fb29728-ce10-49d6-8aee-cd2f8bf8afe3"
      },
      "outputs": [
        {
          "name": "stdout",
          "output_type": "stream",
          "text": [
            "15\n",
            "6\n",
            "7\n"
          ]
        }
      ],
      "source": [
        "# Write your code here [Coursemology]\n",
        "n_alpha = 0\n",
        "n_digit = 0\n",
        "n_symbol = 0\n",
        "for char in message:\n",
        "    if char.isdigit():\n",
        "        n_digit+=1\n",
        "    elif char.isalpha():\n",
        "        n_alpha+=1\n",
        "    else:\n",
        "        if char!=\" \":\n",
        "            n_symbol+=1\n",
        "\n",
        "print(n_alpha)\n",
        "print(n_digit)\n",
        "print(n_symbol)"
      ]
    },
    {
      "cell_type": "markdown",
      "metadata": {
        "id": "CkRbreBEeFTr"
      },
      "source": [
        "## **Lists and set manipulation**\n",
        "\n",
        "A list is a data structure that contains a series of values. Python allows the construction of lists containing values of different types (for example integer and string). A list is declared by a series of values (don't forget the quotes, single or double, if they are strings) separated by commas, and the whole surrounded by square brackets.\n",
        "\n",
        "Lists have a lot in common with strings. Checking the length of a string, as well as indexing, concatenating and slicing lists are done in the same way as for strings.\n",
        "\n",
        "An empty list object can be initialized as:\n",
        "\n",
        "```python\n",
        "a = []\n",
        "```"
      ]
    },
    {
      "cell_type": "markdown",
      "metadata": {
        "id": "B2pASrDaXD6G"
      },
      "source": [
        "### Q7\n",
        "\n",
        "**Initialize** `my_list_string` to be an empty list. **Add** the strings \"alice\", \"bob\", and \"charlie\" to the list `my_list_string`."
      ]
    },
    {
      "cell_type": "code",
      "execution_count": 78,
      "metadata": {
        "colab": {
          "base_uri": "https://localhost:8080/"
        },
        "id": "vRb-gVHyPm-H",
        "outputId": "12266da1-d838-4464-f430-86746ca7f9af"
      },
      "outputs": [
        {
          "name": "stdout",
          "output_type": "stream",
          "text": [
            "['alice', 'bob', 'charlie']\n"
          ]
        }
      ],
      "source": [
        "# Write your code here [Coursemology]\n",
        "\n",
        "my_list_string = []\n",
        "my_list_string.append('alice')\n",
        "my_list_string.append('bob')\n",
        "my_list_string.append('charlie')\n",
        "\n",
        "# start\n",
        "\n",
        "# end\n",
        "\n",
        "print(my_list_string)"
      ]
    },
    {
      "cell_type": "markdown",
      "metadata": {
        "id": "8M7j9F4oXE-5"
      },
      "source": [
        "### Q8\n",
        "\n",
        "**Print the length** of `my_list_string`."
      ]
    },
    {
      "cell_type": "code",
      "execution_count": 79,
      "metadata": {
        "id": "Tj_cH5pSPtlJ"
      },
      "outputs": [
        {
          "name": "stdout",
          "output_type": "stream",
          "text": [
            "3\n"
          ]
        }
      ],
      "source": [
        "# Write your code here [Coursemology]\n",
        "print(len(my_list_string))"
      ]
    },
    {
      "cell_type": "markdown",
      "metadata": {
        "id": "_-QQ-wkoXFpe"
      },
      "source": [
        "### Q9\n",
        "\n",
        "Find **two ways** to select the last element of the list `my_list_string`, and print it."
      ]
    },
    {
      "cell_type": "code",
      "execution_count": 80,
      "metadata": {
        "id": "qGyl7k2uPvm6"
      },
      "outputs": [
        {
          "name": "stdout",
          "output_type": "stream",
          "text": [
            "charlie\n",
            "charlie\n"
          ]
        }
      ],
      "source": [
        "# Write your code here [Coursemology]\n",
        "print(my_list_string[-1])\n",
        "print(my_list_string[len(my_list_string)-1])"
      ]
    },
    {
      "cell_type": "markdown",
      "metadata": {
        "id": "4jEMN4B9XJcP"
      },
      "source": [
        "### Q10\n",
        "\n",
        "**Give the index** of the word \"capybara\" in `list_animals` and save the result in variable `index_of_capybara`.\n",
        "\n",
        "Hint: Check python function `index`."
      ]
    },
    {
      "cell_type": "code",
      "execution_count": 81,
      "metadata": {
        "id": "b5BLVW-OuE48"
      },
      "outputs": [],
      "source": [
        "list_animals = [\"dog\",\"cat\",\"mouse\",\"capybara\",\"cow\",\"dog\",\"dog\",\"mouse\",\"cow\",\"capybara\",\"cat\",\"dog\"]"
      ]
    },
    {
      "cell_type": "code",
      "execution_count": 82,
      "metadata": {
        "colab": {
          "base_uri": "https://localhost:8080/"
        },
        "id": "GsTv8cS7S8_X",
        "outputId": "cabb03b8-521c-4e59-a473-cef86c4313a9"
      },
      "outputs": [
        {
          "name": "stdout",
          "output_type": "stream",
          "text": [
            "3\n"
          ]
        }
      ],
      "source": [
        "# Write your code here [Coursemology]\n",
        "\n",
        "index_of_capybara = list_animals.index(\"capybara\")\n",
        "# start\n",
        "\n",
        "# end\n",
        "\n",
        "print(index_of_capybara)"
      ]
    },
    {
      "cell_type": "markdown",
      "metadata": {
        "id": "fCTFTQ22XGUj"
      },
      "source": [
        "### Q11\n",
        "\n",
        "In python, there are several ways to **delete an element** from a list. In this question, we will try to use these three methods :\n",
        "\n",
        "*   `list.pop(index)`\n",
        "*   `del(list[index])`\n",
        "*   `list.remove(item)`\n",
        "\n",
        "For each method, delete the element `\"bob\"` from `my_string_list2`.\n",
        "\n",
        "\n"
      ]
    },
    {
      "cell_type": "code",
      "execution_count": 83,
      "metadata": {
        "id": "zqHucLnr0mtk"
      },
      "outputs": [
        {
          "name": "stdout",
          "output_type": "stream",
          "text": [
            "['alice', 'charlie']\n",
            "['alice', 'charlie']\n",
            "['alice', 'charlie']\n"
          ]
        }
      ],
      "source": [
        "# Write your code here [Coursemology]\n",
        "\n",
        "# pop method\n",
        "my_list_string2 = my_list_string.copy()\n",
        "my_list_string2.pop(my_list_string2.index('bob'))\n",
        "print(my_list_string2)\n",
        "\n",
        "\n",
        "# del method\n",
        "my_list_string2 = my_list_string.copy()\n",
        "del(my_list_string2[my_list_string2.index('bob')])\n",
        "print(my_list_string2)\n",
        "\n",
        "# remove method\n",
        "my_list_string2 = my_list_string.copy()\n",
        "my_list_string2.remove('bob')\n",
        "print(my_list_string2)"
      ]
    },
    {
      "cell_type": "markdown",
      "metadata": {
        "id": "WFptWboyXHPJ"
      },
      "source": [
        "### Q12\n",
        "\n",
        "**Sort** the following lists : `list_30` and save the results in variables `list_30_sorted`. \n",
        "\n",
        "Hint: Look for python's sorting function `sorted`"
      ]
    },
    {
      "cell_type": "code",
      "execution_count": 84,
      "metadata": {
        "id": "oYT3Alp8zI-V"
      },
      "outputs": [],
      "source": [
        "list_30 = [13, 8, 9, 16, 15, 3, 28, 6, 4, 2, 24, 30, 29, 23, 14, 27, 26, 19, 7, 5, 1, 20, 10, 18, 25, 22, 21, 17, 12, 11]"
      ]
    },
    {
      "cell_type": "code",
      "execution_count": 85,
      "metadata": {
        "colab": {
          "base_uri": "https://localhost:8080/"
        },
        "id": "Gg92XkZhRb02",
        "outputId": "67031f5f-c6d8-4d7c-8057-de0de82829ea"
      },
      "outputs": [
        {
          "name": "stdout",
          "output_type": "stream",
          "text": [
            "[1, 2, 3, 4, 5, 6, 7, 8, 9, 10, 11, 12, 13, 14, 15, 16, 17, 18, 19, 20, 21, 22, 23, 24, 25, 26, 27, 28, 29, 30]\n"
          ]
        }
      ],
      "source": [
        "# Write your code here [Coursemology]\n",
        "\n",
        "list_sorted = sorted(list_30)\n",
        "#start\n",
        "\n",
        "# end \n",
        "print(list_sorted)"
      ]
    },
    {
      "cell_type": "markdown",
      "metadata": {
        "id": "JTx8G3NbXIOA"
      },
      "source": [
        "### Q13\n",
        "\n",
        "**Count the number of occurences** of the word \"dog\" in `list_animals` and save the results in the variable `count_of_dog`.\n",
        "\n",
        "Hint: Look for python's counting function `count`"
      ]
    },
    {
      "cell_type": "code",
      "execution_count": 86,
      "metadata": {
        "colab": {
          "base_uri": "https://localhost:8080/"
        },
        "id": "HdZpRZuMSaN-",
        "outputId": "43ec723b-3527-4e67-d4ce-a3778ee54972"
      },
      "outputs": [
        {
          "name": "stdout",
          "output_type": "stream",
          "text": [
            "4\n"
          ]
        }
      ],
      "source": [
        "# Write your code here [Coursemology]\n",
        "\n",
        "count_of_dog = list_animals.count('dog')\n",
        "# start\n",
        "\n",
        "# end\n",
        "print(count_of_dog)"
      ]
    },
    {
      "cell_type": "markdown",
      "metadata": {
        "id": "Y6TQlUjYXKMW"
      },
      "source": [
        "### Q14 \n",
        "\n",
        "**Concatenate** the two lists `list_animals` and `list_animals2` into a new list `animals`."
      ]
    },
    {
      "cell_type": "code",
      "execution_count": 87,
      "metadata": {
        "id": "N8rjT9uS0xPH"
      },
      "outputs": [],
      "source": [
        "list_animals2 = ['cat', 'dog', 'rabbit', 'horse']"
      ]
    },
    {
      "cell_type": "code",
      "execution_count": 88,
      "metadata": {
        "colab": {
          "base_uri": "https://localhost:8080/"
        },
        "id": "J8CB4KcUUb0r",
        "outputId": "0944e88b-5350-4820-b1fd-eeb25954cde5"
      },
      "outputs": [
        {
          "name": "stdout",
          "output_type": "stream",
          "text": [
            "['dog', 'cat', 'mouse', 'capybara', 'cow', 'dog', 'dog', 'mouse', 'cow', 'capybara', 'cat', 'dog', 'cat', 'dog', 'rabbit', 'horse']\n"
          ]
        }
      ],
      "source": [
        "# Write your code here [Coursemology]\n",
        "\n",
        "animals = list_animals + list_animals2\n",
        "# start\n",
        "\n",
        "# end\n",
        "\n",
        "print(animals)"
      ]
    },
    {
      "cell_type": "markdown",
      "metadata": {
        "id": "IQoUivFPXLmo"
      },
      "source": [
        "### Q15 \n",
        "\n",
        "Create a new list from `list_animals` containing animal names with **first letter \"c\"** and print the new list.\n",
        "\n",
        "Hint: You may need to use with `for`-loop.\n"
      ]
    },
    {
      "cell_type": "code",
      "execution_count": 89,
      "metadata": {
        "id": "q7oCu-b3WJf5"
      },
      "outputs": [
        {
          "name": "stdout",
          "output_type": "stream",
          "text": [
            "['cat', 'capybara', 'cow', 'cow', 'capybara', 'cat']\n"
          ]
        }
      ],
      "source": [
        "# Write your code here [Coursemology]\n",
        "l = []\n",
        "for animal in list_animals:\n",
        "    if animal[0] == 'c':\n",
        "        l.append(animal)\n",
        "\n",
        "print(l)"
      ]
    },
    {
      "cell_type": "markdown",
      "metadata": {
        "id": "TILhwx0lXMZA"
      },
      "source": [
        "### Q16 \n",
        "\n",
        "**Sum** all elements in the `list_30` and save the results in variable `list_sum`. It means that if the list is `[a,b,c,d]`, the result should be `a+b+c+d`.\n",
        "\n",
        "Hint: You should not use any loops. Check for a python function that can directly do what is asked.\n"
      ]
    },
    {
      "cell_type": "code",
      "execution_count": 90,
      "metadata": {
        "colab": {
          "base_uri": "https://localhost:8080/"
        },
        "id": "QLLroNryXlnl",
        "outputId": "a036f33b-d7c4-406e-88cf-0077d262692f"
      },
      "outputs": [
        {
          "name": "stdout",
          "output_type": "stream",
          "text": [
            "465\n"
          ]
        }
      ],
      "source": [
        "# Write your code here [Coursemology]\n",
        "\n",
        "list_sum = sum(list_30)\n",
        "# start\n",
        "\n",
        "# end\n",
        "\n",
        "print(list_sum)"
      ]
    },
    {
      "cell_type": "markdown",
      "metadata": {
        "id": "jZ1n8cAuZOT4"
      },
      "source": [
        "### Q17 \n",
        "\n",
        "Find the **intersection** of `list_animals` and `list_animals2`, i.e. a set with all the animals that are present in both lists. Save the results in variable `animals_intersection`.\n",
        "\n",
        "Hint: You might need to use the python object `set()`"
      ]
    },
    {
      "cell_type": "code",
      "execution_count": 91,
      "metadata": {
        "colab": {
          "base_uri": "https://localhost:8080/"
        },
        "id": "9eaidUNBYmEH",
        "outputId": "49f85ffd-1102-49fd-9e14-558b0205fb30"
      },
      "outputs": [
        {
          "name": "stdout",
          "output_type": "stream",
          "text": [
            "['dog', 'cat', 'mouse', 'capybara', 'cow', 'dog', 'dog', 'mouse', 'cow', 'capybara', 'cat', 'dog']\n",
            "{'dog', 'cat'}\n"
          ]
        }
      ],
      "source": [
        "print(list_animals)\n",
        "a = set(list_animals)\n",
        "b = set(list_animals2)\n",
        "\n",
        "animals_intersection = a.intersection(b)\n",
        "print(animals_intersection)"
      ]
    },
    {
      "cell_type": "markdown",
      "metadata": {
        "id": "rQhSPJNeaj5F"
      },
      "source": [
        "### Q18 \n",
        "\n",
        "Check whether `list2` is a **subset** of `list1`, i.e. whether you can find all elements of `list2` in `list1`.\n",
        "\n",
        "Hint: Check the function `issubset`"
      ]
    },
    {
      "cell_type": "code",
      "execution_count": 92,
      "metadata": {
        "id": "NtrTOkaTAB2S"
      },
      "outputs": [],
      "source": [
        "list1 = [1,2,2]\n",
        "list2 = [1,2]"
      ]
    },
    {
      "cell_type": "code",
      "execution_count": 119,
      "metadata": {
        "colab": {
          "base_uri": "https://localhost:8080/"
        },
        "id": "ntUdfX_KaKuD",
        "outputId": "234ee99c-b180-4b0a-c295-e487314a2bea"
      },
      "outputs": [
        {
          "name": "stdout",
          "output_type": "stream",
          "text": [
            "True\n"
          ]
        }
      ],
      "source": [
        "# Write your code here [Coursemology]\n",
        "\n",
        "is_subset = set(list1).issubset(set(list2))\n",
        "# start\n",
        "\n",
        "# end\n",
        "\n",
        "print(is_subset)"
      ]
    },
    {
      "cell_type": "markdown",
      "metadata": {
        "id": "Kjjz7geCbpgC"
      },
      "source": [
        "### Q19\n",
        "\n",
        "Split a string of a sentence into a **list of string words** by space. For example, if the string is \"Hi everyone my name is John\", you should have the list `[\"Hey\", \"everyone\", \"my\", \"name\", \"is\", \"John\"]` as a result.\n",
        "\n",
        "Hint: Look for the function `split` on python."
      ]
    },
    {
      "cell_type": "code",
      "execution_count": 94,
      "metadata": {
        "id": "HB4WsQxVI30d"
      },
      "outputs": [],
      "source": [
        "lorem = \"Lorem ipsum dolor sit amet consectetur adipiscing elit sed do eiusmod tempor incididunt ut labore et dolore magna aliqua\""
      ]
    },
    {
      "cell_type": "code",
      "execution_count": 95,
      "metadata": {
        "colab": {
          "base_uri": "https://localhost:8080/"
        },
        "id": "9t9b9-jVbh7J",
        "outputId": "79c5fa32-3288-4fc6-8b2c-a403e63a9e5c"
      },
      "outputs": [
        {
          "name": "stdout",
          "output_type": "stream",
          "text": [
            "['Lorem', 'ipsum', 'dolor', 'sit', 'amet', 'consectetur', 'adipiscing', 'elit', 'sed', 'do', 'eiusmod', 'tempor', 'incididunt', 'ut', 'labore', 'et', 'dolore', 'magna', 'aliqua']\n"
          ]
        }
      ],
      "source": [
        "# Write your code here [Coursemology]\n",
        "\n",
        "lorem_list = lorem.split(' ')\n",
        "# start\n",
        "\n",
        "# end\n",
        "\n",
        "print(lorem_list)"
      ]
    },
    {
      "cell_type": "markdown",
      "metadata": {
        "id": "Uz2ddJo0P2A2"
      },
      "source": [
        "### Q20\n",
        "\n",
        "Python allows lists inside list, which can be used to save more than 1-dimensional data. Create an empty python list `my_array` and add the following three lists into the `my_array`.\n",
        "\n",
        "*  First row: `[0,1,2]`\n",
        "*  Second row: `[3,4,5]`\n",
        "*  Third row: `[6,7,8]`"
      ]
    },
    {
      "cell_type": "code",
      "execution_count": 96,
      "metadata": {
        "colab": {
          "base_uri": "https://localhost:8080/"
        },
        "id": "2Ryia3xfQZdu",
        "outputId": "27eb1e54-61fe-43bf-93b9-f234b0b868db"
      },
      "outputs": [
        {
          "name": "stdout",
          "output_type": "stream",
          "text": [
            "None\n"
          ]
        }
      ],
      "source": [
        "# Write your code here [Coursemology]\n",
        "\n",
        "my_array = None\n",
        "# Start\n",
        "\n",
        "# end\n",
        "\n",
        "print(my_array)"
      ]
    },
    {
      "cell_type": "markdown",
      "metadata": {
        "id": "XYK5oxxMwIkh"
      },
      "source": [
        "## **Dictionary**\n",
        "\n",
        "A dictionary (or, in short in Python, dict) is a collection that associates a key with a value. For example, it is possible to associate the key `\"animal\"` with an animal name and the key `\"height\"` with the height of the animal. To create a dictionary, we associate a key with a value by separating them with `,`, all between braces `{}`.\n",
        "\n",
        "For example: `my_dict = {\"animal\"=\"giraffe\", \"height\"=5}`.\n",
        "\n",
        "To access an element of a dict, you must use square brackets and specify the value of the key. For example : `my_dict[\"animal\"] = \"giraffe\"`\n",
        "\n",
        "We show two ways to initialize a `dict` object as follows:\n",
        "\n",
        "```python\n",
        "my_dict = {}\n",
        "## alternatively\n",
        "my_dict = dict()\n",
        "```"
      ]
    },
    {
      "cell_type": "markdown",
      "metadata": {
        "id": "ps5BCdWiwVmq"
      },
      "source": [
        "### Q21 \n",
        "\n",
        "**Create a dictionary** `my_dict` from a list of keys and a list of values."
      ]
    },
    {
      "cell_type": "code",
      "execution_count": 97,
      "metadata": {
        "id": "gA7nxjvSKXND"
      },
      "outputs": [],
      "source": [
        "keys = ['brand','model','year']\n",
        "values = [\"Toyata\",\"Yaris\",1999]"
      ]
    },
    {
      "cell_type": "code",
      "execution_count": 98,
      "metadata": {
        "colab": {
          "base_uri": "https://localhost:8080/"
        },
        "id": "ZSO8ZrzXwVFV",
        "outputId": "271b1834-27eb-4812-b224-bc41f7111200"
      },
      "outputs": [
        {
          "name": "stdout",
          "output_type": "stream",
          "text": [
            "None\n"
          ]
        }
      ],
      "source": [
        "# Write your code here [Coursemology]\n",
        "\n",
        "my_dict = dict(zip(keys, values))\n",
        "# start\n",
        "\n",
        "# end\n",
        "\n",
        "print(my_dict)\n"
      ]
    },
    {
      "cell_type": "markdown",
      "metadata": {
        "id": "WNww571WyURe"
      },
      "source": [
        "### Q22\n",
        "\n",
        "**Extract the keys and values** from a dictionary. Save the keys and the values in two separate lists `keys` and `values` and print these lists.\n",
        "\n",
        "Hint: Check the python function `keys` and `values`"
      ]
    },
    {
      "cell_type": "code",
      "execution_count": 99,
      "metadata": {
        "id": "Z-F59T3aMPcX"
      },
      "outputs": [],
      "source": [
        "my_dict = {'name': 'amber', 'age': 26, 'gender':'female', 'job':'lawyer'}"
      ]
    },
    {
      "cell_type": "code",
      "execution_count": 120,
      "metadata": {
        "colab": {
          "base_uri": "https://localhost:8080/"
        },
        "id": "GtEfBlIFwlcK",
        "outputId": "4c4457f7-cc2d-4723-e1bb-de6cc7a6c821"
      },
      "outputs": [
        {
          "name": "stdout",
          "output_type": "stream",
          "text": [
            "dict_keys(['name', 'age', 'gender', 'job'])\n",
            "dict_values(['amber', 26, 'female', 'lawyer'])\n"
          ]
        }
      ],
      "source": [
        "# Write your code here [Coursemology]\n",
        "\n",
        "keys = my_dict.keys()\n",
        "values = my_dict.values()\n",
        "# start\n",
        "\n",
        "# end\n",
        "\n",
        "print(keys)\n",
        "print(values)"
      ]
    },
    {
      "cell_type": "markdown",
      "metadata": {
        "id": "ie_Yx4EDyh8z"
      },
      "source": [
        "### Q23\n",
        "\n",
        "We know that Amber's `\"height\"` is `165`. **Add this entry** in the dictionary `my_dict`. **Increment** the value of `age` by `age_increment`. We also want the value of `'job'` to be `new_job` instead of `lawyer`. Update `my_dict` with these changes."
      ]
    },
    {
      "cell_type": "code",
      "execution_count": 101,
      "metadata": {
        "id": "76KfUDETPtlp"
      },
      "outputs": [],
      "source": [
        "age_increment = 1\n",
        "new_job = 'doctor'"
      ]
    },
    {
      "cell_type": "code",
      "execution_count": 123,
      "metadata": {
        "colab": {
          "base_uri": "https://localhost:8080/"
        },
        "id": "AKDrexphx2uK",
        "outputId": "4c41469c-cbeb-4b0d-e9f3-4a5bb5ef8304"
      },
      "outputs": [
        {
          "name": "stdout",
          "output_type": "stream",
          "text": [
            "{'name': 'amber', 'age': 28, 'gender': 'female', 'job': 'doctor', 'height': 165}\n"
          ]
        }
      ],
      "source": [
        "# Write your code here [Coursemology]\n",
        "my_dict['age'] += age_increment\n",
        "my_dict['job'] = new_job\n",
        "\n",
        "# start\n",
        "\n",
        "# end\n",
        "\n",
        "print(my_dict)"
      ]
    },
    {
      "cell_type": "markdown",
      "metadata": {
        "id": "oIregNtoy2nA"
      },
      "source": [
        "### Q24 \n",
        "\n",
        "**Merge** the two dictionaries `x` and `y` into a new dictionary `z`."
      ]
    },
    {
      "cell_type": "code",
      "execution_count": 124,
      "metadata": {
        "id": "EvYiRJ6mPk7y"
      },
      "outputs": [],
      "source": [
        "x = {'a': 1, 'b': 2}\n",
        "y = {'c': 11, 'd':29}"
      ]
    },
    {
      "cell_type": "code",
      "execution_count": 125,
      "metadata": {
        "colab": {
          "base_uri": "https://localhost:8080/"
        },
        "id": "CC4tz_ntywin",
        "outputId": "d5fd9b44-de48-4065-ef1b-7e5b08dfa644"
      },
      "outputs": [
        {
          "name": "stdout",
          "output_type": "stream",
          "text": [
            "{'c': 11, 'd': 29, 'a': 1, 'b': 2}\n"
          ]
        }
      ],
      "source": [
        "# Write your code here [Coursemology]\n",
        "\n",
        "z = {}\n",
        "z.update(y)\n",
        "z.update(x)\n",
        "# start\n",
        "\n",
        "# end\n",
        "\n",
        "print(z)"
      ]
    },
    {
      "cell_type": "markdown",
      "metadata": {
        "id": "--hXsZIzww3p"
      },
      "source": [
        "### Q25 \n",
        "\n",
        "**Count the number of occurences** of each word in the given text. Save these occurences in a dictionary. The dictionary should have a word as a key, the value associated to this key should be the number of occurences of the word. \n",
        "\n",
        "Hint: First split the sentence into a list of words using the function we mentioned in Q19. Then, use a `for` loop to enumerate the words in sentence."
      ]
    },
    {
      "cell_type": "code",
      "execution_count": 105,
      "metadata": {
        "id": "XSYVK0Z9X7r1"
      },
      "outputs": [],
      "source": [
        "text = \"you say goodbye and i say hello hello hello i don't know why you say goodbye i say hello hello hello i don't know why you say goodbye i say hello\""
      ]
    },
    {
      "cell_type": "code",
      "execution_count": 126,
      "metadata": {
        "colab": {
          "base_uri": "https://localhost:8080/"
        },
        "id": "lSyKvCmh1iXE",
        "outputId": "956c2786-0c8d-4a47-8770-f4a455f12b95"
      },
      "outputs": [
        {
          "name": "stdout",
          "output_type": "stream",
          "text": [
            "{'you': 3, 'say': 6, 'goodbye': 3, 'and': 1, 'i': 5, 'hello': 7, \"don't\": 2, 'know': 2, 'why': 2}\n"
          ]
        }
      ],
      "source": [
        "# Write your code here [Coursemology]\n",
        "words = text.split(' ')\n",
        "count_words = {}\n",
        "for word in words:\n",
        "    if word not in count_words:\n",
        "        count_words[word] = 0\n",
        "    count_words[word] += 1\n",
        "\n",
        "\n",
        "# start\n",
        "\n",
        "# end\n",
        "\n",
        "print(count_words)"
      ]
    },
    {
      "cell_type": "markdown",
      "metadata": {
        "id": "gwq4svfAzE_U"
      },
      "source": [
        "## **Functions**\n",
        "\n",
        "A function is a sequence of instructions that can be called with a name.\n",
        "\n",
        "First of all to indicate to the interpreter that you want to create a function, we use the keyword `def` followed by a name then parenthesis and then a double point. Between the parenthesis are the parameters, that we will use inside the function. It is possible that we do not have any parameter.\n",
        "\n",
        "Once you have done that, you can write the intructions. A function usually ends with `return`, but this is not always the case.\n",
        "\n",
        "For example:\n",
        "\n",
        "\n",
        "```\n",
        "def func(x):\n",
        "    print(\"The function is working!\")\n",
        "    return 5*x\n",
        "```\n",
        "\n",
        "Here, `x` is a parameter of the function. We used `return 5*x`. It means that if we wrote `a = func(x)`, then a would be equal to `5*x`. If there is no `return`, then we cannot save `func(x)` in a variable. In the execution cell, we will also see printed `'The function is working!'`\n",
        "\n",
        "You can also notice that there is a space before the keyword `return`, this is an indentation, i.e. a space that not only improves the reading of the function but also indicates that we are still in the function. When the requested action is no longer in the function, the text should no longer be indented. To indent text, you must press the `TAB` key on your keyboard."
      ]
    },
    {
      "cell_type": "markdown",
      "metadata": {
        "id": "20ag8kySy7L5"
      },
      "source": [
        "### Q26\n",
        "\n",
        "Create a function `my_function`. This function has no parameter, and only print \"Hello World\"."
      ]
    },
    {
      "cell_type": "code",
      "execution_count": 127,
      "metadata": {
        "id": "yX7rFO3Byq-h"
      },
      "outputs": [],
      "source": [
        "# Write your code here [Coursemology]\n",
        "\n",
        "def my_function():\n",
        "    '''fill in your code below'''\n",
        "    # start\n",
        "    print(\"Hello World\")\n",
        "\n",
        "    # end"
      ]
    },
    {
      "cell_type": "code",
      "execution_count": 128,
      "metadata": {
        "id": "CzMuni8wcwod"
      },
      "outputs": [
        {
          "name": "stdout",
          "output_type": "stream",
          "text": [
            "Hello World\n"
          ]
        }
      ],
      "source": [
        "# Testing: the function should print \"Hello World\"\n",
        "my_function()"
      ]
    },
    {
      "cell_type": "markdown",
      "metadata": {
        "id": "P37QHfpwzksP"
      },
      "source": [
        "### Q27\n",
        "\n",
        "Create a function `simple_func` that takes one parameter `x`. This function should **return** `x+5`."
      ]
    },
    {
      "cell_type": "code",
      "execution_count": 109,
      "metadata": {
        "colab": {
          "base_uri": "https://localhost:8080/"
        },
        "id": "aiNz9DnyzWYg",
        "outputId": "20b2cda4-f18c-4556-bf8f-47d918f4527e"
      },
      "outputs": [],
      "source": [
        "# Write your code here [Coursemology]\n",
        "\n",
        "def simple_func(x):\n",
        "    '''fill in your code below'''\n",
        "    # start\n",
        "    return x+5\n",
        "\n",
        "    # end"
      ]
    },
    {
      "cell_type": "code",
      "execution_count": 110,
      "metadata": {
        "id": "u2WPVyWpcpMb"
      },
      "outputs": [
        {
          "name": "stdout",
          "output_type": "stream",
          "text": [
            "None\n"
          ]
        }
      ],
      "source": [
        "# Testing: `res` should equal to 15\n",
        "res = simple_func(10)\n",
        "print(res)"
      ]
    },
    {
      "cell_type": "markdown",
      "metadata": {
        "id": "CcszvjhJ3NyS"
      },
      "source": [
        "### Q28 \n",
        "\n",
        "A palindrome is a word that can be read the same whether you read it from left to right or from right to left, such as kayak or madam. Create a function `is_palindrome` that takes in parameter the string `s`. If the word is a palindrome, print `\"the word is a palindrome\"`. If not, print `\"the word is not a palindrome\"`.\n",
        "\n",
        "Hint: You can use a `for` loop, but this is not necessary."
      ]
    },
    {
      "cell_type": "code",
      "execution_count": 129,
      "metadata": {
        "id": "9tIcViXF1oWZ"
      },
      "outputs": [],
      "source": [
        "# Write your code here [Coursemology]\n",
        "\n",
        "def is_palindrome(s):\n",
        "    '''fill in your code below'''\n",
        "    # start\n",
        "    return s == s[::-1]\n",
        "    # end"
      ]
    },
    {
      "cell_type": "code",
      "execution_count": 130,
      "metadata": {
        "id": "-IIF6bshcs0K"
      },
      "outputs": [
        {
          "name": "stdout",
          "output_type": "stream",
          "text": [
            "True\n",
            "False\n"
          ]
        }
      ],
      "source": [
        "# Testing: the function should print \"the word is a palindrome\".\n",
        "print(is_palindrome(\"madam\")) # True\n",
        "print(is_palindrome(\"adam\")) # False"
      ]
    },
    {
      "cell_type": "markdown",
      "metadata": {
        "id": "9VKDaet83gNg"
      },
      "source": [
        "### Q29 \n",
        "\n",
        "An algorithm is said to be recursive if, at some point, it calls itself. Write a **recursive** function `factorial` that takes in argument an integer `k`. The function will return the number $k! = 1 \\times 2 \\times ... \\times k$."
      ]
    },
    {
      "cell_type": "code",
      "execution_count": 131,
      "metadata": {
        "colab": {
          "base_uri": "https://localhost:8080/"
        },
        "id": "qhXtTufX3bOf",
        "outputId": "570379be-ba85-45e0-e2ae-53595261642e"
      },
      "outputs": [],
      "source": [
        "# Write your code here [Coursemology]\n",
        "\n",
        "def factorial(k):\n",
        "    # start\n",
        "    if k == 1:\n",
        "        return 1\n",
        "        \n",
        "    return k * factorial(k-1)\n",
        "    # end\n"
      ]
    },
    {
      "cell_type": "code",
      "execution_count": 132,
      "metadata": {
        "id": "jFv9iVhid7Y5"
      },
      "outputs": [
        {
          "name": "stdout",
          "output_type": "stream",
          "text": [
            "720\n"
          ]
        }
      ],
      "source": [
        "# Testing: `res` should equal to 720.\n",
        "res = factorial(6)\n",
        "print(res)"
      ]
    },
    {
      "cell_type": "markdown",
      "metadata": {
        "id": "k1l62Azi5JOl"
      },
      "source": [
        "### Q30 \n",
        "\n",
        "reate a function `find_max` that takes in argument a list `list1`. This function shall find the maximum of a list and the index at which this maximum is reached. You **must not** use the python function `max()`. This function return two results: the maximum and its index in the list.\n",
        "\n",
        "Hint: You have to use a `for` loop."
      ]
    },
    {
      "cell_type": "code",
      "execution_count": 135,
      "metadata": {
        "id": "pG6STx0W3XXg"
      },
      "outputs": [],
      "source": [
        "# Write your code here [Coursemology]\n",
        "\n",
        "def find_max(list1):\n",
        "    '''fill in your code below'''\n",
        "    cur_idx = -1\n",
        "    cur_max = -100000\n",
        "    for idx, e in enumerate(list1):\n",
        "        if e > cur_max:\n",
        "            cur_idx = idx\n",
        "            cur_max = e\n",
        "    \n",
        "    return cur_max, cur_idx"
      ]
    },
    {
      "cell_type": "code",
      "execution_count": 136,
      "metadata": {
        "id": "EVgHLQjcflp4"
      },
      "outputs": [
        {
          "name": "stdout",
          "output_type": "stream",
          "text": [
            "17 4\n"
          ]
        }
      ],
      "source": [
        "# Testing: max_value should equal to 17; and max_index should equal to 4\n",
        "max_value, max_index = find_max([-5,7,9,5,17,8,9])\n",
        "print(max_value, max_index)"
      ]
    },
    {
      "cell_type": "markdown",
      "metadata": {
        "id": "7zag6pWOderx"
      },
      "source": [
        "# Submission to Coursemology\n",
        "\n",
        "Copy each code block that has the \"[Coursemology]\" comment to the approapriate question page in Coursemology.\n",
        "\n",
        "**Note:** Make sure that your code doesn't have any additional print statements except for the ones that are provided or instructed to be written.\n",
        "\n",
        "You may test your code in Coursemology by pressing the \"Submit\" question on each individual question. This will simply run and test your code and not submit your code for the final grading. To finalize your submission, press \"Finalise Submission\" button.\n"
      ]
    }
  ],
  "metadata": {
    "colab": {
      "provenance": []
    },
    "kernelspec": {
      "display_name": "datascivenv",
      "language": "python",
      "name": "datascivenv"
    },
    "language_info": {
      "codemirror_mode": {
        "name": "ipython",
        "version": 3
      },
      "file_extension": ".py",
      "mimetype": "text/x-python",
      "name": "python",
      "nbconvert_exporter": "python",
      "pygments_lexer": "ipython3",
      "version": "3.11.4"
    }
  },
  "nbformat": 4,
  "nbformat_minor": 0
}
