{
  "cells": [
    {
      "cell_type": "markdown",
      "metadata": {
        "id": "lkFeSKefpNNR"
      },
      "source": [
        "# **Assignment 1 - Part 2**"
      ]
    },
    {
      "cell_type": "markdown",
      "metadata": {
        "id": "oUYb_zYmJI3C"
      },
      "source": [
        "During this assignment, you **must NOT** use any loop, unless stated in the question. All the arrays mentioned here are **numpy arrays**."
      ]
    },
    {
      "cell_type": "markdown",
      "metadata": {
        "id": "of5MDpvfXHHs"
      },
      "source": [
        "## **Importing modules**\n",
        "\n",
        "We will import the modules `numpy` as np, `matplotlib.pyplot` as plt, `csv`, and import `stats` from `scipy`. These modules will be needed to do the rest of the questions.\n",
        "\n",
        "For subsequent questions, you do not have to import any libraries in Coursemology.\n",
        "\n",
        "Just take note that when using a function of each module, you will have to use the name of the importation in front of your function. For example, if you need to use numpy's argmax function and because numpy is imported as np, you will have to write \"`np.argmax`\"."
      ]
    },
    {
      "cell_type": "code",
      "execution_count": 1,
      "metadata": {
        "id": "Fb-rXHlfpAt5"
      },
      "outputs": [],
      "source": [
        "import numpy as np\n",
        "import matplotlib.pyplot as plt\n",
        "from scipy import stats\n",
        "import csv"
      ]
    },
    {
      "cell_type": "markdown",
      "metadata": {
        "id": "lRbSXzbDXASY"
      },
      "source": [
        "## **Numpy arrays**\n",
        "A numpy array (usually called array) is a homogeneous multidimensional array: all elements must have the same type, usually numeric. The different dimensions are called axes, while the number of dimensions - 0 for a scalar, 1 for a vector, 2 for a matrix, etc. - is called the number of elements. They are very useful in Machine Learning as most datasets can be converted to arrays and exploited with numpy functions."
      ]
    },
    {
      "cell_type": "markdown",
      "metadata": {
        "id": "0vvETBeyXsTI"
      },
      "source": [
        "###Q1 Different types of numpy arrays\n",
        "\n",
        "Create three arrays `array_1`, `array_2`, and `array_3`. \n",
        "\n",
        "`array_1` should be a one-dimensional array of zeros and of size 3. \n",
        "\n",
        "`array_2` should be a three-dimensional array of ones and of size $3 \\times 3 \\times 3$. \n",
        "\n",
        "`array_3` should be an identity matrix of shape $3\\times 3$."
      ]
    },
    {
      "cell_type": "code",
      "execution_count": 2,
      "metadata": {
        "colab": {
          "base_uri": "https://localhost:8080/"
        },
        "id": "H1CFK-O9W_pm",
        "outputId": "80674a94-e4af-4d23-f870-47fef0073b70"
      },
      "outputs": [
        {
          "name": "stdout",
          "output_type": "stream",
          "text": [
            "One-dimensional array:\n",
            " [0. 0. 0.]\n",
            "Multi-dimensional array:\n",
            " [[[1. 1. 1.]\n",
            "  [1. 1. 1.]\n",
            "  [1. 1. 1.]]\n",
            "\n",
            " [[1. 1. 1.]\n",
            "  [1. 1. 1.]\n",
            "  [1. 1. 1.]]\n",
            "\n",
            " [[1. 1. 1.]\n",
            "  [1. 1. 1.]\n",
            "  [1. 1. 1.]]]\n",
            "Identity matrix:\n",
            " [[1. 0. 0.]\n",
            " [0. 1. 0.]\n",
            " [0. 0. 1.]]\n"
          ]
        }
      ],
      "source": [
        "# Write your code here [Coursemology]\n",
        "\n",
        "array_1 = np.zeros(3)\n",
        "array_2 = np.ones((3,3,3))\n",
        "array_3 = np.identity(3)\n",
        "# start\n",
        "\n",
        "\n",
        "\n",
        "# end\n",
        "\n",
        "print(\"One-dimensional array:\\n\", array_1)\n",
        "print(\"Multi-dimensional array:\\n\", array_2)\n",
        "print(\"Identity matrix:\\n\", array_3)"
      ]
    },
    {
      "cell_type": "markdown",
      "metadata": {
        "id": "dstcVy5RAyD7"
      },
      "source": [
        "### Q2 Numpy arange function\n",
        "\n",
        "Create a 1D array `decade` such that the first element is 10, the last is 60, and the step between each element of the array is 10."
      ]
    },
    {
      "cell_type": "code",
      "execution_count": 3,
      "metadata": {
        "colab": {
          "base_uri": "https://localhost:8080/"
        },
        "id": "S1nrLLUEY9QD",
        "outputId": "aa7511a1-ed93-4e39-80ff-2a18586c8800"
      },
      "outputs": [
        {
          "name": "stdout",
          "output_type": "stream",
          "text": [
            "[10 20 30 40 50 60]\n"
          ]
        }
      ],
      "source": [
        "# Write your code here [Coursemology]\n",
        "\n",
        "decade = np.arange(10, 70, 10)\n",
        "\n",
        "# start\n",
        "\n",
        "# end\n",
        "\n",
        "print(decade)"
      ]
    },
    {
      "cell_type": "markdown",
      "metadata": {
        "id": "nvZXvxFmCFfv"
      },
      "source": [
        "### Q3 List to array and shape of array\n",
        "\n",
        "Convert the list `list_to_convert` to an array `converted_list` of size $2 \\times 3$. Assign the shape of the array `converted_list` to the variable `converted_list_shape`. "
      ]
    },
    {
      "cell_type": "code",
      "execution_count": 4,
      "metadata": {
        "colab": {
          "base_uri": "https://localhost:8080/"
        },
        "id": "n4uQRJHKB_No",
        "outputId": "4836c101-d07c-430e-8330-285949b33c50"
      },
      "outputs": [
        {
          "name": "stdout",
          "output_type": "stream",
          "text": [
            "[[0 3 4]\n",
            " [8 1 2]]\n",
            "(2, 3)\n"
          ]
        }
      ],
      "source": [
        "# Write your code here [Coursemology]\n",
        "\n",
        "list_to_convert = [0,3,4,8,1,2]\n",
        "converted_list = np.array(list_to_convert).reshape((2,3))\n",
        "converted_list_shape = converted_list.shape\n",
        "\n",
        "# start\n",
        "\n",
        "\n",
        "\n",
        "# end\n",
        "\n",
        "print(converted_list)\n",
        "print(converted_list_shape)"
      ]
    },
    {
      "cell_type": "markdown",
      "metadata": {
        "id": "2X5MxsxIEg1b"
      },
      "source": [
        "### Q4 Array slicing\n",
        "\n",
        "Isolate the columns selected in `col_to_select` from the array `arr` and assign the chosen columns to a new array `cols`."
      ]
    },
    {
      "cell_type": "code",
      "execution_count": 85,
      "metadata": {
        "id": "KkJ3PWjfMqnM"
      },
      "outputs": [
        {
          "name": "stdout",
          "output_type": "stream",
          "text": [
            "[[  0   6]\n",
            " [100  90]\n",
            " [  7  10]]\n"
          ]
        }
      ],
      "source": [
        "# Write your code here [Coursemology]\n",
        "\n",
        "arr = np.array([[0,1,6],[100,2,90],[7,8,10]])\n",
        "col_to_select = [0,2]\n",
        "cols = arr[:, col_to_select]\n",
        "\n",
        "# start\n",
        "\n",
        "# end\n",
        "\n",
        "print(cols)"
      ]
    },
    {
      "cell_type": "markdown",
      "metadata": {
        "id": "piOz3NxwFCRR"
      },
      "source": [
        "### Q5 Array splitting\n",
        "\n",
        "Split `arr` into 3 equal size subarrays. After splitting the array, assign the first subarray (index 0) to `split1`, assign the second subarray (index 1) to `split2` and the third subarray (index 2) to `split3`.\n"
      ]
    },
    {
      "cell_type": "code",
      "execution_count": 86,
      "metadata": {
        "id": "R5PbOZ3SMurl"
      },
      "outputs": [
        {
          "name": "stdout",
          "output_type": "stream",
          "text": [
            "[[  0   1   6]\n",
            " [100   2  90]]\n",
            "[[ 7  8 10]\n",
            " [ 6  9 10]]\n",
            "[[11 80 76]\n",
            " [ 1 92  3]]\n"
          ]
        }
      ],
      "source": [
        "# Write your code here [Coursemology]\n",
        "\n",
        "arr = np.array([[0,1,6],[100,2,90],[7,8,10],[6,9,10],[11,80,76],[1,92,3]])\n",
        "x = np.split(arr, 3)\n",
        "split1 = x[0]\n",
        "split2 = x[1]\n",
        "split3 = x[2]\n",
        "\n",
        "# start\n",
        "\n",
        "\n",
        "\n",
        "# end\n",
        "\n",
        "print(split1)\n",
        "print(split2)\n",
        "print(split3)"
      ]
    },
    {
      "cell_type": "markdown",
      "metadata": {
        "id": "dHdCB4K_GBOU"
      },
      "source": [
        "## **Math applied to arrays**\n",
        "Numpy functions are very powerful and are better to use than the association of loops and basic python functions. In this part, you will learn how to use these functions and apply them to numpy arrays."
      ]
    },
    {
      "cell_type": "markdown",
      "metadata": {
        "id": "RvSGg1w0GGFA"
      },
      "source": [
        "### Q6 Element-wise summation and multiplication of arrays\n",
        "\n",
        "Sum two arrays, so that each element at the same position in both arrays are added together. E.g. [1, 2] + [3, 4] = [4, 6].\n",
        "Next, multiply two arrays, so that each element at the same position in both arrays are multiplied together. E.g. [1, 2] * [3, 4] = [3, 8]."
      ]
    },
    {
      "cell_type": "code",
      "execution_count": 7,
      "metadata": {
        "id": "sBqF71KEMyMP"
      },
      "outputs": [
        {
          "name": "stdout",
          "output_type": "stream",
          "text": [
            "[[  6  10  16]\n",
            " [111  82 166]\n",
            " [  8 100  13]]\n",
            "[[   0    9   60]\n",
            " [1100  160 6840]\n",
            " [   7  736   30]]\n"
          ]
        }
      ],
      "source": [
        "# Write your code here [Coursemology]\n",
        "\n",
        "arr1 = np.array([[0,1,6],[100,2,90],[7,8,10]])\n",
        "arr2 = np.array([[6,9,10],[11,80,76],[1,92,3]])\n",
        "sum_arr = np.add(arr1, arr2)\n",
        "prod_arr = np.multiply(arr1, arr2)\n",
        "\n",
        "# start\n",
        "\n",
        "\n",
        "# end\n",
        "\n",
        "print(sum_arr)\n",
        "print(prod_arr)"
      ]
    },
    {
      "cell_type": "markdown",
      "metadata": {
        "id": "7fLoF0lnGjHd"
      },
      "source": [
        "### Q7 Sum, Mean & Standard Deviation\n",
        "\n",
        "Compute the sum of all the elements in the array. \n",
        "\n",
        "Next, Compute the mean of all the elements in the array. \n",
        "\n",
        "Lastly, Compute the standard deviation of the numbers inside the array.\n"
      ]
    },
    {
      "cell_type": "code",
      "execution_count": 8,
      "metadata": {
        "id": "MFv_loJ0M0cC"
      },
      "outputs": [
        {
          "name": "stdout",
          "output_type": "stream",
          "text": [
            "224\n",
            "24.88888888888889\n",
            "37.681249225707425\n"
          ]
        }
      ],
      "source": [
        "# Write your code here [Coursemology]\n",
        "\n",
        "arr1 = np.array([[0,1,6],[100,2,90],[7,8,10]])\n",
        "\n",
        "sum_of_array = np.sum(arr1)\n",
        "mean_of_array = np.mean(arr1)\n",
        "std_of_array = np.std(arr1)\n",
        "\n",
        "# start\n",
        "\n",
        "\n",
        "# end\n",
        "\n",
        "print(sum_of_array)\n",
        "print(mean_of_array)\n",
        "print(std_of_array)"
      ]
    },
    {
      "cell_type": "markdown",
      "metadata": {
        "id": "uw9KOPf6G0L8"
      },
      "source": [
        "### Q8 Matrix Product\n",
        "\n",
        "Compute the matrix product of the two arrays, `arr1` and `arr2`, and assign the result to `matProd_arr`."
      ]
    },
    {
      "cell_type": "code",
      "execution_count": 9,
      "metadata": {
        "id": "bpr8cxnZM5OI"
      },
      "outputs": [
        {
          "name": "stdout",
          "output_type": "stream",
          "text": [
            "[[  17  632   94]\n",
            " [ 712 9340 1422]\n",
            " [ 140 1623  708]]\n"
          ]
        }
      ],
      "source": [
        "# Write your code here [Coursemology]\n",
        "\n",
        "arr1 = np.array([[0,1,6],[100,2,90],[7,8,10]])\n",
        "arr2 = np.array([[6,9,10],[11,80,76],[1,92,3]])\n",
        "matProd_arr = np.matmul(arr1, arr2)\n",
        "\n",
        "# start\n",
        "\n",
        "# end\n",
        "\n",
        "print(matProd_arr)"
      ]
    },
    {
      "cell_type": "markdown",
      "metadata": {
        "id": "p7QIxPEFHroS"
      },
      "source": [
        "### Q9 Element-wise square root and exponential of arrays\n",
        "\n",
        "Compute the element-wise square root of the array `arr1` and assign the result to `sqrt_arr`. E.g, sqrt([1, 4])= [1, 2]. Compute the element-wise exponential of the array `arr1` and assign the result to `exp_arr`. E.g, exp([1, 4])= [$e^1$, $e^4$]"
      ]
    },
    {
      "cell_type": "code",
      "execution_count": 10,
      "metadata": {
        "id": "SWQmUghzM737"
      },
      "outputs": [
        {
          "name": "stdout",
          "output_type": "stream",
          "text": [
            "[[ 0.          1.          2.44948974]\n",
            " [10.          1.41421356  9.48683298]\n",
            " [ 2.64575131  2.82842712  3.16227766]]\n",
            "[[1.00000000e+00 2.71828183e+00 4.03428793e+02]\n",
            " [2.68811714e+43 7.38905610e+00 1.22040329e+39]\n",
            " [1.09663316e+03 2.98095799e+03 2.20264658e+04]]\n"
          ]
        }
      ],
      "source": [
        "# Write your code here [Coursemology]\n",
        "\n",
        "arr1 = np.array([[0,1,6],[100,2,90],[7,8,10]])\n",
        "sqrt_arr = np.sqrt(arr1)\n",
        "exp_arr = np.exp(arr1)\n",
        "\n",
        "# start\n",
        "\n",
        "\n",
        "# end\n",
        "\n",
        "print(sqrt_arr)\n",
        "print(exp_arr)"
      ]
    },
    {
      "cell_type": "markdown",
      "metadata": {
        "id": "jhOer4LZIKX9"
      },
      "source": [
        "### Q10 Standardisation of arrays\n",
        "\n",
        "Create a function `standardizeArray` that will take in a parameter which is an array `X` and return a new standardized array without making any changes to the original array `X`.\n",
        "\n",
        "Standardization means subtracting the mean of the array `X` from every element of the array `X` and then dividing the result by the standard deviation of all the elements inside the original array `X`."
      ]
    },
    {
      "cell_type": "code",
      "execution_count": 11,
      "metadata": {
        "id": "vydv_mRrNANu"
      },
      "outputs": [
        {
          "name": "stdout",
          "output_type": "stream",
          "text": [
            "[[-0.66051125 -0.63397285 -0.50128086]\n",
            " [ 1.99332858 -0.60743445  1.7279446 ]\n",
            " [-0.47474246 -0.44820406 -0.39512726]]\n"
          ]
        }
      ],
      "source": [
        "# Write your code here [Coursemology]\n",
        "\n",
        "def standardizeArray(X):\n",
        "  # start\n",
        "  temp = np.copy(X)\n",
        "  return (temp-np.mean(temp))/np.std(temp)\n",
        "  \n",
        "  \n",
        "  # end\n",
        "  \n",
        "arr1 = np.array([[0,1,6],[100,2,90],[7,8,10]])\n",
        "print(standardizeArray(arr1))"
      ]
    },
    {
      "cell_type": "markdown",
      "metadata": {
        "id": "ElSryi-SJ8WX"
      },
      "source": [
        "## **Argument functions**\n",
        "These are also very useful numpy functions that will allow you to find the maximum, minimum, or specific values in an array that fulfills a certain condition."
      ]
    },
    {
      "cell_type": "markdown",
      "metadata": {
        "id": "vdw-uYIvJxTR"
      },
      "source": [
        "### Q11 Finding the maximum value in an array\n",
        "\n",
        "Find the maximum value of the array `arr` and assign it to `max_arr`."
      ]
    },
    {
      "cell_type": "code",
      "execution_count": 12,
      "metadata": {
        "id": "9NT7DhChNDZS"
      },
      "outputs": [
        {
          "name": "stdout",
          "output_type": "stream",
          "text": [
            "100\n"
          ]
        }
      ],
      "source": [
        "# Write your code here [Coursemology]\n",
        "\n",
        "arr = np.array([[-3,1,6],[100,2,90],[7,8,10],[60,19,10],[-11,80,76],[1,92,3]])\n",
        "max_arr = np.max(arr)\n",
        "\n",
        "# start\n",
        "\n",
        "# end\n",
        "\n",
        "print(max_arr)"
      ]
    },
    {
      "cell_type": "markdown",
      "metadata": {
        "id": "lHJZaIyZKNI0"
      },
      "source": [
        "### Q12 Finding the index of minimum value in an array\n",
        "\n",
        "Find the index of the minimum value in the array `arr` and assign it to `argmin_arr`."
      ]
    },
    {
      "cell_type": "code",
      "execution_count": 88,
      "metadata": {
        "id": "aXyYSEOPNFtu"
      },
      "outputs": [
        {
          "name": "stdout",
          "output_type": "stream",
          "text": [
            "12\n"
          ]
        }
      ],
      "source": [
        "# Write your code here [Coursemology]\n",
        "\n",
        "arr = np.array([[-3,1,6],[100,2,90],[7,8,10],[60,19,10],[-11,80,76],[1,92,3]])\n",
        "argmin_arr = np.argmin(arr)\n",
        "\n",
        "# start\n",
        "\n",
        "# end\n",
        "\n",
        "print(argmin_arr)"
      ]
    },
    {
      "cell_type": "markdown",
      "metadata": {
        "id": "krbfcf3WKi_Q"
      },
      "source": [
        "### Q13 Selecting elements from an array based on a condition\n",
        "\n",
        "Find the elements in the array `arr` where the value is strictly greater than 50. A new array `where_arr` should be created, which is the same as `arr` if the values are over 50. Else, the corresponding value in `where_arr` is 0.\n"
      ]
    },
    {
      "cell_type": "code",
      "execution_count": 14,
      "metadata": {
        "id": "UQ_5mSrVNH8X"
      },
      "outputs": [
        {
          "name": "stdout",
          "output_type": "stream",
          "text": [
            "[[  0   0   0]\n",
            " [100   0  90]\n",
            " [  0   0   0]\n",
            " [ 60   0   0]\n",
            " [  0  80  76]\n",
            " [  0  92   0]]\n"
          ]
        }
      ],
      "source": [
        "# Write your code here [Coursemology]\n",
        "\n",
        "arr = np.array([[-3,1,6],[100,2,90],[7,8,10],[60,19,10],[-11,80,76],[1,92,3]])\n",
        "where_arr = np.where(arr>50, arr, 0)\n",
        "\n",
        "# start\n",
        "\n",
        "# end\n",
        "\n",
        "print(where_arr)"
      ]
    },
    {
      "cell_type": "markdown",
      "metadata": {
        "id": "5xRir7vtMSOy"
      },
      "source": [
        "### Q14 Array sorting\n",
        "\n",
        "Sort the two arrays `arr1` and `arr2` using `np.sort` (ascending order). Assign the sorted array `arr1` to `sort_arr1` and the sorted array `arr2` to `sort_arr2`. Note the difference between the sorting of the arrays."
      ]
    },
    {
      "cell_type": "code",
      "execution_count": 15,
      "metadata": {
        "id": "O0qyFgRHNKdO"
      },
      "outputs": [
        {
          "name": "stdout",
          "output_type": "stream",
          "text": [
            "First sorting:\n",
            " [[ -3   1   6]\n",
            " [  2  90 100]\n",
            " [  7   8  10]\n",
            " [ 10  19  60]\n",
            " [-11  76  80]\n",
            " [  1   3  92]]\n",
            "Second sorting:\n",
            " [-11  -3   1   1   2   3   6   6   7   8   9  10  10  76  80  90  92 100]\n"
          ]
        }
      ],
      "source": [
        "# Write your code here [Coursemology]\n",
        "\n",
        "arr1 = np.array([[-3,1,6],[100,2,90],[7,8,10],[60,19,10],[-11,80,76],[1,92,3]])\n",
        "arr2 = np.array([-3,1,6,100,2,90,7,8,10,6,9,10,-11,80,76,1,92,3])\n",
        "sort_arr1 = np.sort(arr1)\n",
        "sort_arr2 = np.sort(arr2)\n",
        "\n",
        "# start\n",
        "\n",
        "\n",
        "# end\n",
        "\n",
        "print(\"First sorting:\\n\", sort_arr1)\n",
        "print(\"Second sorting:\\n\",sort_arr2)"
      ]
    },
    {
      "cell_type": "markdown",
      "metadata": {
        "id": "YRhBHwjcPXVG"
      },
      "source": [
        "### Q15 Obtaining indices that would sort an array\n",
        "\n",
        "Create an array `argsort_arr1` which is an array of indices that define how to obtain the sorted array (ascending order) from the original array `arr1`.\n",
        "\n",
        "Create an array `argsort_arr2` which is an array of indices that define how to obtain the sorted array (ascending order) from the original array `arr2`.\n"
      ]
    },
    {
      "cell_type": "code",
      "execution_count": 16,
      "metadata": {
        "id": "oVLgOby0NPir"
      },
      "outputs": [
        {
          "name": "stdout",
          "output_type": "stream",
          "text": [
            "First argument sorting:\n",
            " [[0 1 2]\n",
            " [1 2 0]\n",
            " [0 1 2]\n",
            " [2 1 0]\n",
            " [0 2 1]\n",
            " [0 2 1]]\n",
            "Second argument sorting:\n",
            " [12  0  1 15  4 17  9  2  6  7 10 11  8 14 13  5 16  3]\n"
          ]
        }
      ],
      "source": [
        "# Write your code here [Coursemology]\n",
        "\n",
        "arr1 = np.array([[-3,1,6],[100,2,90],[7,8,10],[60,19,10],[-11,80,76],[1,92,3]])\n",
        "arr2 = np.array([-3,1,6,100,2,90,7,8,10,6,9,10,-11,80,76,1,92,3])\n",
        "argsort_arr1 = np.argsort(arr1)\n",
        "argsort_arr2 = np.argsort(arr2)\n",
        "\n",
        "# start\n",
        "\n",
        "\n",
        "# end\n",
        "\n",
        "print(\"First argument sorting:\\n\", argsort_arr1)\n",
        "print(\"Second argument sorting:\\n\",argsort_arr2)"
      ]
    },
    {
      "cell_type": "markdown",
      "metadata": {
        "id": "QDIJqxiBNPkN"
      },
      "source": [
        "## **Probabilities and statistics**\n",
        "By using the package `random` from `numpy`, you will be able to generate random numbers and probabilities. You will also need to use `scipy.stats` in this part."
      ]
    },
    {
      "cell_type": "markdown",
      "metadata": {
        "id": "0Cc9V9EgNyec"
      },
      "source": [
        "We will import the `random` package of `numpy` as `rd`."
      ]
    },
    {
      "cell_type": "code",
      "execution_count": 17,
      "metadata": {
        "id": "QtnUBwqUNsUs"
      },
      "outputs": [],
      "source": [
        "import numpy.random as rd"
      ]
    },
    {
      "cell_type": "markdown",
      "metadata": {
        "id": "Q0M4HdeWN4aL"
      },
      "source": [
        "### Q16 Random number generation\n",
        "\n",
        "Generate a random number between 0 and 1.\n"
      ]
    },
    {
      "cell_type": "code",
      "execution_count": 18,
      "metadata": {
        "colab": {
          "base_uri": "https://localhost:8080/"
        },
        "id": "PxRVWyNyOYut",
        "outputId": "9507abbe-8079-4065-9311-8b6b3d89e052"
      },
      "outputs": [
        {
          "name": "stdout",
          "output_type": "stream",
          "text": [
            "0.28043612860805756\n"
          ]
        }
      ],
      "source": [
        "# Write your code here [Coursemology]\n",
        "\n",
        "rand_number = rd.rand()\n",
        "\n",
        "# start\n",
        "\n",
        "# end\n",
        "\n",
        "print(rand_number)"
      ]
    },
    {
      "cell_type": "markdown",
      "metadata": {
        "id": "Eb1gzulWPMbI"
      },
      "source": [
        "### Q17 Random array generation (integers)\n",
        "\n",
        "Now, generate an array of random integers between 10 and 100 (both inclusive) of size $3 \\times 5$.\n",
        "\n",
        "\n"
      ]
    },
    {
      "cell_type": "code",
      "execution_count": 19,
      "metadata": {
        "colab": {
          "base_uri": "https://localhost:8080/"
        },
        "id": "VY6tyPq7Okev",
        "outputId": "3121d5e7-7baf-4886-afde-b6827a883795"
      },
      "outputs": [
        {
          "name": "stdout",
          "output_type": "stream",
          "text": [
            "[[96 14 80 60 57]\n",
            " [98 76 93 84 81]\n",
            " [27 92 93 84 32]]\n"
          ]
        }
      ],
      "source": [
        "# Write your code here [Coursemology]\n",
        "\n",
        "rand_int = rd.randint(size=(3,5), low=10, high=100)\n",
        "\n",
        "# start\n",
        "\n",
        "# end\n",
        "\n",
        "print(rand_int)"
      ]
    },
    {
      "cell_type": "markdown",
      "metadata": {
        "id": "6v6L7KPOOih1"
      },
      "source": [
        "### Q18 Random array generation (floats)\n",
        "\n",
        "Generate an array of random float numbers from a uniform distribution between 10 (include) and 100 (exclude) of size $10\\times 8$"
      ]
    },
    {
      "cell_type": "code",
      "execution_count": 20,
      "metadata": {
        "colab": {
          "base_uri": "https://localhost:8080/"
        },
        "id": "XpSyivHUPESy",
        "outputId": "3989d659-c2d5-4c57-be6f-be54dd71a036"
      },
      "outputs": [
        {
          "name": "stdout",
          "output_type": "stream",
          "text": [
            "[[93.16615813 36.6704     76.42695539 20.90991968 95.70056207 25.19129026\n",
            "  30.30245922 42.30460518]\n",
            " [89.47200328 82.40939711 34.92192295 71.86673621 46.19739113 22.58043423\n",
            "  36.6932219  15.51077228]\n",
            " [89.22615893 44.11227888 83.01534808 41.8151845  41.61891776 44.46656268\n",
            "  49.02051572 37.7718983 ]\n",
            " [42.22350079 48.89261591 68.5441982  45.69868889 51.30239355 27.78060179\n",
            "  19.62006029 65.98376565]\n",
            " [39.21215368 35.00662771 55.50892967 77.22113181 74.87551172 94.97394482\n",
            "  55.61136557 89.02114487]\n",
            " [84.43544947 27.13015969 32.3959213  59.99320411 15.66800135 98.25113924\n",
            "  40.43238388 40.56136829]\n",
            " [44.46230156 70.76300253 12.02110575 42.88450484 23.56416175 30.86036632\n",
            "  50.08863871 16.63865334]\n",
            " [53.59810554 10.94986104 39.04874149 15.57421071 23.00773645 21.42402422\n",
            "  66.49717983 79.64813983]\n",
            " [55.0728537  54.94708462 45.23162284 83.71142199 96.69811187 70.63485246\n",
            "  78.95636989 44.50800736]\n",
            " [31.85459434 81.36994353 32.67040264 17.47021269 77.20430194 39.46384729\n",
            "  98.47842976 58.54647502]]\n"
          ]
        }
      ],
      "source": [
        "# Write your code here [Coursemology]\n",
        "\n",
        "rand_number2 = rd.uniform(size=(10,8), low=10, high=100)\n",
        "\n",
        "# start\n",
        "\n",
        "# end\n",
        "\n",
        "print(rand_number2)"
      ]
    },
    {
      "cell_type": "markdown",
      "metadata": {
        "id": "JspKmrJ6PwS9"
      },
      "source": [
        "For this question, we will use `stats`, a package from scipy. Scipy also uses numpy arrays in its functions so you can use numpy arrays and functions if you need to. \n",
        "\n",
        "### Q19 Probability density\n",
        "\n",
        "Calculate the probability density of the normal distribution with mean 0 and standard deviation 1, for x = -10, -9, ..., -1, 0, 1, ..., 9, 10.  Store the values in a list `density_proba`.\n",
        "\n",
        "Hint: You need to use `stats.norm.pdf`. You can use a loop here.\n",
        "\n"
      ]
    },
    {
      "cell_type": "code",
      "execution_count": 21,
      "metadata": {
        "colab": {
          "base_uri": "https://localhost:8080/"
        },
        "id": "YU2KOGbBPsmV",
        "outputId": "d4ba647c-c32d-4305-9681-1ad6b15262cc"
      },
      "outputs": [
        {
          "name": "stdout",
          "output_type": "stream",
          "text": [
            "[7.69459862670642e-23, 1.0279773571668917e-18, 5.052271083536893e-15, 9.134720408364595e-12, 6.075882849823286e-09, 1.4867195147342979e-06, 0.00013383022576488537, 0.0044318484119380075, 0.05399096651318806, 0.24197072451914337, 0.3989422804014327, 0.24197072451914337, 0.05399096651318806, 0.0044318484119380075, 0.00013383022576488537, 1.4867195147342979e-06, 6.075882849823286e-09, 9.134720408364595e-12, 5.052271083536893e-15, 1.0279773571668917e-18, 7.69459862670642e-23]\n"
          ]
        }
      ],
      "source": [
        "# Write your code here [Coursemology]\n",
        "density_proba = []\n",
        "for x in np.arange(-10, 11, 1):\n",
        "    density_proba.append(stats.norm.pdf(x, loc=0, scale=1))\n",
        "\n",
        "print(density_proba)"
      ]
    },
    {
      "cell_type": "markdown",
      "metadata": {
        "id": "KJZ1adalOtUW"
      },
      "source": [
        "## **Use an external file with Python**\n",
        "In Python, you can also use external files, such as `.txt` files, `.csv` files, or even pictures in `.jpg` and `.png` format. In this part, we will learn how to open, read, edit and save `.txt` and `.csv` files thanks to numpy. Most datasets we use in Machine Learning are external datasets that you have to open in Python.\n",
        "\n",
        "Run the following code to download `sample3.txt` and `california_housing_train.csv` and save them in your Google Drive."
      ]
    },
    {
      "cell_type": "code",
      "execution_count": 22,
      "metadata": {
        "id": "yZt9Igz1403K"
      },
      "outputs": [],
      "source": [
        "import urllib.request\n",
        "\n",
        "def download_from_url(url, save_path):\n",
        "  response = urllib.request.urlopen(url)\n",
        "  data = response.read()      # a `bytes` object\n",
        "  text = data.decode('utf-8')\n",
        "  with open(save_path, 'w') as f:\n",
        "    f.write(text)\n",
        "\n",
        "download_from_url('https://raw.githubusercontent.com/acharkq/IT1244/main/assignment1/sample3.txt', 'sample3.txt')\n",
        "download_from_url('https://raw.githubusercontent.com/acharkq/IT1244/main/assignment1/california_housing_train.csv', 'california_housing_train.csv')"
      ]
    },
    {
      "cell_type": "markdown",
      "metadata": {
        "id": "KRbRpoB4O1aZ"
      },
      "source": [
        "### Q20 Reading contents in a file (Part 1)\n",
        "\n",
        "Write a function `file_load()` to open the file `sample3.txt` using `open()` and print the content using `read()`. Note that the function does not take any input or return any output. It simply prints the contents of the file.\n",
        "\n",
        "Below shows how to use the functions `open()` and `read()` together in the `with` statement:\n",
        "\n",
        "\n",
        "    with open(\"hello.txt\") as my_file:\n",
        "        print(my_file.read())\n",
        "\n",
        "    # Output :\n",
        "    # Hello world\n",
        "    # I hope you're doing well today\n",
        "    # This is a text file\n",
        "\n",
        "\n",
        "The above is recommended when working with files. When you use `with` statement with `open()` function, you do not need to close the file at the end, because `with` would automatically close it for you."
      ]
    },
    {
      "cell_type": "code",
      "execution_count": 25,
      "metadata": {
        "id": "VbDCroYuRqLV"
      },
      "outputs": [],
      "source": [
        "# Write your code here [Coursemology]\n",
        "\n",
        "f = 'sample3.txt'\n",
        "\n",
        "def file_load():\n",
        "    # start\n",
        "    with open(f) as file:\n",
        "        print(file.read())\n",
        "\n",
        "    # end\n",
        "    return "
      ]
    },
    {
      "cell_type": "markdown",
      "metadata": {
        "id": "sNFmDqsxRlnJ"
      },
      "source": [
        "### Q21 Readings contents in a file (Part 2)\n",
        "\n",
        "Write a function `read_txt()` that saves the contents of the `sample3.txt` file in a python list. Each element in the list should be a line of the file (of type `string`). You must use the function `readlines()`. Note that the function `read_txt()` does not take any input but it will return a list with the contents of the `sample3.txt` file. \n",
        "\n",
        "There are two other rules:\n",
        "\n",
        "*   We do not want empty elements (for example a space between quotation marks like `\" \"`) : you should filter them so that we have at least one letter in each element.\n",
        "*   You should find a way to remove the line break indicator `\"\\n\"` from each element of the array.\n",
        "\n",
        "So for example, the beginning of the output should be:\n",
        "\n",
        "```\n",
        "['Quod equidem non reprehendo;'\n",
        " 'Lorem ipsum dolor sit amet, [...] dicemus?'\n",
        " 'Iam id ipsum absurdum, maximum malum [...] obruat?'\n",
        "```\n",
        "\n",
        " and not:\n",
        "\n",
        "```\n",
        "['Quod equidem non reprehendo;\\n'\n",
        " 'Lorem ipsum dolor sit amet, [...] dicemus?\\n'\n",
        " ' '\n",
        " 'Iam id ipsum absurdum, maximum malum [...] obruat?\\n'\n",
        "```\n",
        "\n",
        "Hint: You can use a loop."
      ]
    },
    {
      "cell_type": "code",
      "execution_count": 38,
      "metadata": {
        "id": "A-rQkEVfPjjK"
      },
      "outputs": [
        {
          "data": {
            "text/plain": [
              "['Quod equidem non reprehendo;',\n",
              " 'Lorem ipsum dolor sit amet, consectetur adipiscing elit. Quibus natura iure responderit non esse verum aliunde finem beate vivendi, a se principia rei gerendae peti; Quae enim adhuc protulisti, popularia sunt, ego autem a te elegantiora desidero. Duo Reges: constructio interrete. Tum Lucius: Mihi vero ista valde probata sunt, quod item fratri puto. Bestiarum vero nullum iudicium puto. Nihil enim iam habes, quod ad corpus referas; Deinde prima illa, quae in congressu solemus: Quid tu, inquit, huc? Et homini, qui ceteris animantibus plurimum praestat, praecipue a natura nihil datum esse dicemus?',\n",
              " '',\n",
              " 'Iam id ipsum absurdum, maximum malum neglegi. Quod ea non occurrentia fingunt, vincunt Aristonem; Atqui perspicuum est hominem e corpore animoque constare, cum primae sint animi partes, secundae corporis. Fieri, inquam, Triari, nullo pacto potest, ut non dicas, quid non probes eius, a quo dissentias. Equidem e Cn. An dubium est, quin virtus ita maximam partem optineat in rebus humanis, ut reliquas obruat?',\n",
              " '',\n",
              " '',\n",
              " 'Quis istum dolorem timet?',\n",
              " '',\n",
              " 'Summus dolor plures dies manere non potest? Dicet pro me ipsa virtus nec dubitabit isti vestro beato M. Tubulum fuisse, qua illum, cuius is condemnatus est rogatione, P. Quod si ita sit, cur opera philosophiae sit danda nescio.',\n",
              " 'Ex eorum enim scriptis et institutis cum omnis doctrina liberalis, omnis historia.',\n",
              " 'Quod si ita est, sequitur id ipsum, quod te velle video, omnes semper beatos esse sapientes. Cum enim fertur quasi torrens oratio, quamvis multa cuiusque modi rapiat, nihil tamen teneas, nihil apprehendas, nusquam orationem rapidam coerceas. Ita redarguitur ipse a sese, convincunturque scripta eius probitate ipsius ac moribus. At quanta conantur! Mundum hunc omnem oppidum esse nostrum! Incendi igitur eos, qui audiunt, vides. Vide, ne magis, inquam, tuum fuerit, cum re idem tibi, quod mihi, videretur, non nova te rebus nomina inponere. Qui-vere falsone, quaerere mittimus-dicitur oculis se privasse; Si ista mala sunt, in quae potest incidere sapiens, sapientem esse non esse ad beate vivendum satis. At vero si ad vitem sensus accesserit, ut appetitum quendam habeat et per se ipsa moveatur, quid facturam putas?',\n",
              " 'Quem si tenueris, non modo meum Ciceronem, sed etiam me ipsum abducas licebit.',\n",
              " 'Stulti autem malorum memoria torquentur, sapientes bona praeterita grata recordatione renovata delectant.',\n",
              " 'Esse enim quam vellet iniquus iustus poterat inpune.',\n",
              " 'Quae autem natura suae primae institutionis oblita est?',\n",
              " 'Verum tamen cum de rebus grandioribus dicas, ipsae res verba rapiunt;',\n",
              " 'Hoc est non modo cor non habere, sed ne palatum quidem.',\n",
              " 'Voluptatem cum summum bonum diceret, primum in eo ipso parum vidit, deinde hoc quoque alienum; Sed tu istuc dixti bene Latine, parum plane. Nam haec ipsa mihi erunt in promptu, quae modo audivi, nec ante aggrediar, quam te ab istis, quos dicis, instructum videro. Fatebuntur Stoici haec omnia dicta esse praeclare, neque eam causam Zenoni desciscendi fuisse. Non autem hoc: igitur ne illud quidem. Ratio quidem vestra sic cogit. Cum audissem Antiochum, Brute, ut solebam, cum M. An quod ita callida est, ut optime possit architectari voluptates?',\n",
              " 'Idemne, quod iucunde?',\n",
              " 'Haec mihi videtur delicatior, ut ita dicam, molliorque ratio, quam virtutis vis gravitasque postulat. Sed quoniam et advesperascit et mihi ad villam revertendum est, nunc quidem hactenus; Cuius ad naturam apta ratio vera illa et summa lex a philosophis dicitur. Neque solum ea communia, verum etiam paria esse dixerunt. Sed nunc, quod agimus; A mene tu']"
            ]
          },
          "execution_count": 38,
          "metadata": {},
          "output_type": "execute_result"
        }
      ],
      "source": [
        "# Write your code here [Coursemology]\n",
        "\n",
        "def read_txt():\n",
        "    f = 'sample3.txt'\n",
        "    lines = []\n",
        "    with open(f) as file:\n",
        "      for line in file.readlines():\n",
        "       lines.append(line.strip())\n",
        "    # start\n",
        "\n",
        "\n",
        "    # end\n",
        "    return lines\n",
        "\n",
        "res = read_txt()\n",
        "for i in res:\n",
        "  print(i)"
      ]
    },
    {
      "cell_type": "markdown",
      "metadata": {
        "id": "yV5V7wC9RwC3"
      },
      "source": [
        "### Q22 Reading contents in a file (Part 3)\n",
        "\n",
        "Recall that `res` is a list from the previous question which contains every line (of type `string`) in the `sample3.txt` file.\n",
        "\n",
        "Now, append the `sentence_to_add` to end of the list `res`. Then, join each element of the list `res` into a whole new string `new_sample`. Save the string `new_sample` as a txt file of name `new_sample.txt`. \n",
        "\n",
        "Hint: \n",
        "1. Use the python function `'\\n'.join` to concatenate a list of strings into a new string with line break after every line.\n",
        "2. Check out https://stackoverflow.com/a/12871858/9208236 to see how to write string to a file in python."
      ]
    },
    {
      "cell_type": "code",
      "execution_count": 39,
      "metadata": {
        "colab": {
          "base_uri": "https://localhost:8080/"
        },
        "id": "S-BO1dZ8Q9Nv",
        "outputId": "78342c28-5f4b-4148-c1c1-c038f7295872"
      },
      "outputs": [
        {
          "name": "stdout",
          "output_type": "stream",
          "text": [
            "Quod equidem non reprehendo;\n",
            "Lorem ipsum dolor sit amet, consectetur adipiscing elit. Quibus natura iure responderit non esse verum aliunde finem beate vivendi, a se principia rei gerendae peti; Quae enim adhuc protulisti, popularia sunt, ego autem a te elegantiora desidero. Duo Reges: constructio interrete. Tum Lucius: Mihi vero ista valde probata sunt, quod item fratri puto. Bestiarum vero nullum iudicium puto. Nihil enim iam habes, quod ad corpus referas; Deinde prima illa, quae in congressu solemus: Quid tu, inquit, huc? Et homini, qui ceteris animantibus plurimum praestat, praecipue a natura nihil datum esse dicemus?\n",
            "\n",
            "Iam id ipsum absurdum, maximum malum neglegi. Quod ea non occurrentia fingunt, vincunt Aristonem; Atqui perspicuum est hominem e corpore animoque constare, cum primae sint animi partes, secundae corporis. Fieri, inquam, Triari, nullo pacto potest, ut non dicas, quid non probes eius, a quo dissentias. Equidem e Cn. An dubium est, quin virtus ita maximam partem optineat in rebus humanis, ut reliquas obruat?\n",
            "\n",
            "\n",
            "Quis istum dolorem timet?\n",
            "\n",
            "Summus dolor plures dies manere non potest? Dicet pro me ipsa virtus nec dubitabit isti vestro beato M. Tubulum fuisse, qua illum, cuius is condemnatus est rogatione, P. Quod si ita sit, cur opera philosophiae sit danda nescio.\n",
            "Ex eorum enim scriptis et institutis cum omnis doctrina liberalis, omnis historia.\n",
            "Quod si ita est, sequitur id ipsum, quod te velle video, omnes semper beatos esse sapientes. Cum enim fertur quasi torrens oratio, quamvis multa cuiusque modi rapiat, nihil tamen teneas, nihil apprehendas, nusquam orationem rapidam coerceas. Ita redarguitur ipse a sese, convincunturque scripta eius probitate ipsius ac moribus. At quanta conantur! Mundum hunc omnem oppidum esse nostrum! Incendi igitur eos, qui audiunt, vides. Vide, ne magis, inquam, tuum fuerit, cum re idem tibi, quod mihi, videretur, non nova te rebus nomina inponere. Qui-vere falsone, quaerere mittimus-dicitur oculis se privasse; Si ista mala sunt, in quae potest incidere sapiens, sapientem esse non esse ad beate vivendum satis. At vero si ad vitem sensus accesserit, ut appetitum quendam habeat et per se ipsa moveatur, quid facturam putas?\n",
            "Quem si tenueris, non modo meum Ciceronem, sed etiam me ipsum abducas licebit.\n",
            "Stulti autem malorum memoria torquentur, sapientes bona praeterita grata recordatione renovata delectant.\n",
            "Esse enim quam vellet iniquus iustus poterat inpune.\n",
            "Quae autem natura suae primae institutionis oblita est?\n",
            "Verum tamen cum de rebus grandioribus dicas, ipsae res verba rapiunt;\n",
            "Hoc est non modo cor non habere, sed ne palatum quidem.\n",
            "Voluptatem cum summum bonum diceret, primum in eo ipso parum vidit, deinde hoc quoque alienum; Sed tu istuc dixti bene Latine, parum plane. Nam haec ipsa mihi erunt in promptu, quae modo audivi, nec ante aggrediar, quam te ab istis, quos dicis, instructum videro. Fatebuntur Stoici haec omnia dicta esse praeclare, neque eam causam Zenoni desciscendi fuisse. Non autem hoc: igitur ne illud quidem. Ratio quidem vestra sic cogit. Cum audissem Antiochum, Brute, ut solebam, cum M. An quod ita callida est, ut optime possit architectari voluptates?\n",
            "Idemne, quod iucunde?\n",
            "Haec mihi videtur delicatior, ut ita dicam, molliorque ratio, quam virtutis vis gravitasque postulat. Sed quoniam et advesperascit et mihi ad villam revertendum est, nunc quidem hactenus; Cuius ad naturam apta ratio vera illa et summa lex a philosophis dicitur. Neque solum ea communia, verum etiam paria esse dixerunt. Sed nunc, quod agimus; A mene tu\n",
            "I love python!\n"
          ]
        }
      ],
      "source": [
        "# Write your code here [Coursemology]\n",
        "\n",
        "sentence_to_add = 'I love python!'\n",
        "res.append(sentence_to_add)\n",
        "new_sample = '\\n'.join(res)\n",
        "with open('new_sample.txt', 'w') as f:\n",
        "    f.write(new_sample)\n",
        "\n",
        "print(new_sample)"
      ]
    },
    {
      "cell_type": "markdown",
      "metadata": {
        "id": "4K2yJJJ7Vx0o"
      },
      "source": [
        "### Q23 Reading CSV files (Part 1)\n",
        "\n",
        "Write a function `read_CSV` to open the file `california_housing_train.csv` using `open()` and read the file using `csv.reader()`. The function should also print the header and the first 10 rows of data in the file. \n",
        "\n",
        "Note that the function `read_CSV()` does not take any input but it will print the header and the first 10 rows of data in the `california_housing_train.csv` file.\n",
        "\n",
        "Hint: You can use a loop for the second part of the question."
      ]
    },
    {
      "cell_type": "code",
      "execution_count": 46,
      "metadata": {
        "colab": {
          "base_uri": "https://localhost:8080/"
        },
        "id": "X44QsKxNUPyn",
        "outputId": "d0ce5116-6bdc-4155-9a01-6ccdd471cc03"
      },
      "outputs": [
        {
          "name": "stdout",
          "output_type": "stream",
          "text": [
            "['longitude', 'latitude', 'housing_median_age', 'total_rooms', 'total_bedrooms', 'population', 'households', 'median_income', 'median_house_value']\n",
            "['-114.310000', '34.190000', '15.000000', '5612.000000', '1283.000000', '1015.000000', '472.000000', '1.493600', '66900.000000']\n",
            "['-114.470000', '34.400000', '19.000000', '7650.000000', '1901.000000', '1129.000000', '463.000000', '1.820000', '80100.000000']\n",
            "['-114.560000', '33.690000', '17.000000', '720.000000', '174.000000', '333.000000', '117.000000', '1.650900', '85700.000000']\n",
            "['-114.570000', '33.640000', '14.000000', '1501.000000', '337.000000', '515.000000', '226.000000', '3.191700', '73400.000000']\n",
            "['-114.570000', '33.570000', '20.000000', '1454.000000', '326.000000', '624.000000', '262.000000', '1.925000', '65500.000000']\n",
            "['-114.580000', '33.630000', '29.000000', '1387.000000', '236.000000', '671.000000', '239.000000', '3.343800', '74000.000000']\n",
            "['-114.580000', '33.610000', '25.000000', '2907.000000', '680.000000', '1841.000000', '633.000000', '2.676800', '82400.000000']\n",
            "['-114.590000', '34.830000', '41.000000', '812.000000', '168.000000', '375.000000', '158.000000', '1.708300', '48500.000000']\n",
            "['-114.590000', '33.610000', '34.000000', '4789.000000', '1175.000000', '3134.000000', '1056.000000', '2.178200', '58400.000000']\n",
            "['-114.600000', '34.830000', '46.000000', '1497.000000', '309.000000', '787.000000', '271.000000', '2.190800', '48100.000000']\n"
          ]
        }
      ],
      "source": [
        "# Write your code here [Coursemology]\n",
        "\n",
        "f = 'california_housing_train.csv'\n",
        "\n",
        "def read_CSV():\n",
        "    reader = csv.reader(open(f), delimiter=',')\n",
        "    count = 0\n",
        "    for row in reader:\n",
        "        if count > 10:\n",
        "            break\n",
        "        print(row)\n",
        "        count += 1\n",
        "    return \n",
        "\n",
        "read_CSV()"
      ]
    },
    {
      "cell_type": "markdown",
      "metadata": {
        "id": "f5HUTH7JWolK"
      },
      "source": [
        "### Q24 Reading CSV files (Part 2)\n",
        "\n",
        "Save all the rows of the `california_housing_train.csv` file in a list `csv_list`. Do not save the first row of the `california_housing_train.csv` file, which are just the names of the column (`'longitude'`, `'latitude'`, `'housing_median_age'`,... etc). \n",
        "\n",
        "Also, in the csv file, the numbers are of type string. Convert these strings into float in `csv_list`.\n",
        "\n",
        "Finally, convert the `csv_list` to an array `csv_array`."
      ]
    },
    {
      "cell_type": "code",
      "execution_count": 64,
      "metadata": {
        "id": "ixo5chAENhW0"
      },
      "outputs": [
        {
          "name": "stdout",
          "output_type": "stream",
          "text": [
            "[[-1.1431e+02  3.4190e+01  1.5000e+01  5.6120e+03  1.2830e+03  1.0150e+03\n",
            "   4.7200e+02  1.4936e+00  6.6900e+04]\n",
            " [-1.1447e+02  3.4400e+01  1.9000e+01  7.6500e+03  1.9010e+03  1.1290e+03\n",
            "   4.6300e+02  1.8200e+00  8.0100e+04]\n",
            " [-1.1456e+02  3.3690e+01  1.7000e+01  7.2000e+02  1.7400e+02  3.3300e+02\n",
            "   1.1700e+02  1.6509e+00  8.5700e+04]\n",
            " [-1.1457e+02  3.3640e+01  1.4000e+01  1.5010e+03  3.3700e+02  5.1500e+02\n",
            "   2.2600e+02  3.1917e+00  7.3400e+04]\n",
            " [-1.1457e+02  3.3570e+01  2.0000e+01  1.4540e+03  3.2600e+02  6.2400e+02\n",
            "   2.6200e+02  1.9250e+00  6.5500e+04]\n",
            " [-1.1458e+02  3.3630e+01  2.9000e+01  1.3870e+03  2.3600e+02  6.7100e+02\n",
            "   2.3900e+02  3.3438e+00  7.4000e+04]\n",
            " [-1.1458e+02  3.3610e+01  2.5000e+01  2.9070e+03  6.8000e+02  1.8410e+03\n",
            "   6.3300e+02  2.6768e+00  8.2400e+04]\n",
            " [-1.1459e+02  3.4830e+01  4.1000e+01  8.1200e+02  1.6800e+02  3.7500e+02\n",
            "   1.5800e+02  1.7083e+00  4.8500e+04]\n",
            " [-1.1459e+02  3.3610e+01  3.4000e+01  4.7890e+03  1.1750e+03  3.1340e+03\n",
            "   1.0560e+03  2.1782e+00  5.8400e+04]\n",
            " [-1.1460e+02  3.4830e+01  4.6000e+01  1.4970e+03  3.0900e+02  7.8700e+02\n",
            "   2.7100e+02  2.1908e+00  4.8100e+04]]\n"
          ]
        }
      ],
      "source": [
        "# Write your code here [Coursemology]\n",
        "\n",
        "csv_list = []\n",
        "csv_array = None\n",
        "\n",
        "f = 'california_housing_train.csv'\n",
        "csv_f = csv.reader(open(f))\n",
        "count = 0\n",
        "for row in csv_f:\n",
        "    if count == 0:\n",
        "        count += 1\n",
        "        continue\n",
        "    row = list(map(float, row))\n",
        "    csv_list.append(row)\n",
        "\n",
        "csv_array = np.array(csv_list)\n",
        "print(csv_array[:10])"
      ]
    },
    {
      "cell_type": "markdown",
      "metadata": {
        "id": "_API8BzeZKVg"
      },
      "source": [
        "## **Plot a graph**\n",
        "Python can also help you to visualize your dataset and your results by plotting graphs."
      ]
    },
    {
      "cell_type": "markdown",
      "metadata": {
        "id": "0ol6uiVhZh7n"
      },
      "source": [
        "### Q25 Line graph\n",
        "\n",
        "Plot a line graph of y = log(x), with x = 1, 2, 3, ..., 9, 10.\n",
        "\n",
        "Hint: Use `np.arange`, as well as `plt.plot`\n",
        "\n",
        "Upload a screenshot of the plot as well as a screenshot of the code chunk required to produce the plot into Coursemology."
      ]
    },
    {
      "cell_type": "code",
      "execution_count": 66,
      "metadata": {
        "id": "HkLN9HRqY5PW"
      },
      "outputs": [
        {
          "data": {
            "text/plain": [
              "[<matplotlib.lines.Line2D at 0x129969610>]"
            ]
          },
          "execution_count": 66,
          "metadata": {},
          "output_type": "execute_result"
        },
        {
          "data": {
            "image/png": "[encoded data removed]",
            "text/plain": [
              "<Figure size 640x480 with 1 Axes>"
            ]
          },
          "metadata": {},
          "output_type": "display_data"
        }
      ],
      "source": [
        "# Write your code here and upload a screenshot [Coursemology]\n",
        "\n",
        "# start\n",
        "vals = np.arange(1, 11)\n",
        "plt.plot(vals, np.log(vals))\n"
      ]
    },
    {
      "cell_type": "markdown",
      "metadata": {
        "id": "xc7UBPgxfylw"
      },
      "source": [
        "### Q26 Scatter plot\n",
        "\n",
        "Plot a scatter graph of y = log(x), with x = 1, 2, 3, ..., 9, 10.\n",
        "\n",
        "Hint: Use `plt.scatter`\n",
        "\n",
        "Upload a screenshot of the plot as well as a screenshot of the code chunk required to produce the plot into Coursemology."
      ]
    },
    {
      "cell_type": "code",
      "execution_count": 67,
      "metadata": {
        "id": "i-cMhejiflMu"
      },
      "outputs": [
        {
          "data": {
            "text/plain": [
              "<matplotlib.collections.PathCollection at 0x129aa6ed0>"
            ]
          },
          "execution_count": 67,
          "metadata": {},
          "output_type": "execute_result"
        },
        {
          "data": {
            "image/png": "[encoded data removed]",
            "text/plain": [
              "<Figure size 640x480 with 1 Axes>"
            ]
          },
          "metadata": {},
          "output_type": "display_data"
        }
      ],
      "source": [
        "# Write your code here and upload a screenshot [Coursemology]\n",
        "\n",
        "# start\n",
        "vals = np.arange(1, 11)\n",
        "plt.scatter(x=vals, y=np.log(vals))\n",
        "\n",
        "\n",
        "# end"
      ]
    },
    {
      "cell_type": "markdown",
      "metadata": {
        "id": "TluKFQrJgVB9"
      },
      "source": [
        "### Q27 Multiple plots\n",
        "\n",
        "Plot the graphs of the functions y = `sin(x)` and y = `cos(x)` in the same figure. `x` should start from 1 (inclusive) to 10 (inclusive), with step size of 0.1.\n",
        "\n",
        "You should label each of the graphs as `\"sin\"` and `\"cos\"` respectively. You should also add the title, `\"sinusoid\"`, to the figure.\n",
        "\n",
        "Hint: Don't forget to add `plt.legend()` and `plt.title()`.\n",
        "\n",
        "Upload a screenshot of the plot as well as a screenshot of the code chunk required to produce the plot into Coursemology."
      ]
    },
    {
      "cell_type": "code",
      "execution_count": 73,
      "metadata": {
        "id": "wP2_YifrgW3P"
      },
      "outputs": [
        {
          "data": {
            "text/plain": [
              "<matplotlib.legend.Legend at 0x12f050f90>"
            ]
          },
          "execution_count": 73,
          "metadata": {},
          "output_type": "execute_result"
        },
        {
          "data": {
            "image/png": "[encoded data removed]",
            "text/plain": [
              "<Figure size 640x480 with 1 Axes>"
            ]
          },
          "metadata": {},
          "output_type": "display_data"
        }
      ],
      "source": [
        "# Write your code here and upload a screenshot [Coursemology]\n",
        "x = np.arange(1, 10.1, 0.1)\n",
        "plt.plot(x, np.sin(x), x, np.cos(x))\n",
        "plt.title('Sinusoid')\n",
        "plt.legend(['sin', 'cos'])"
      ]
    },
    {
      "cell_type": "markdown",
      "metadata": {
        "id": "C-lZSw7rleQL"
      },
      "source": [
        "### Q28 Scatter plot (again!)\n",
        "\n",
        "`arr` defines a set of points. Use the first column of `arr` as the x coordinates and the second column of `arr` as the y coordinates. Then, plot a scatter graph with these x and y coordinates.\n",
        "\n",
        "Upload a screenshot of the plot as well as a screenshot of the code chunk required to produce the plot into Coursemology.\n",
        "\n"
      ]
    },
    {
      "cell_type": "code",
      "execution_count": 76,
      "metadata": {
        "id": "hR9rpgveNp8H"
      },
      "outputs": [
        {
          "data": {
            "text/plain": [
              "<matplotlib.collections.PathCollection at 0x12f192090>"
            ]
          },
          "execution_count": 76,
          "metadata": {},
          "output_type": "execute_result"
        },
        {
          "data": {
            "image/png": "[encoded data removed]",
            "text/plain": [
              "<Figure size 640x480 with 1 Axes>"
            ]
          },
          "metadata": {},
          "output_type": "display_data"
        }
      ],
      "source": [
        "# Write your code here and upload a screenshot [Coursemology]\n",
        "\n",
        "arr = np.array([[0,1],[2,100],[7,8],[6,9],[10,80],[1,92],[4,25],[9,10],[8,56],[3,78],[5,61]])\n",
        "plt.scatter(x=arr[:, 0], y=arr[:, 1])"
      ]
    },
    {
      "cell_type": "markdown",
      "metadata": {
        "id": "WHt4beRZlgsS"
      },
      "source": [
        "### Q29 Advanced plotting\n",
        "\n",
        "Plot the density probability and cumulative probability curves of the normal distribution with mean 0 and variance 1. \n",
        "\n",
        "Follow these instructions:\n",
        "\n",
        "\n",
        "*   The title of the entire plot should be `\"Normal distribution\"`\n",
        "*   The labels of each line graph should be `\"density\"` and `\"cumulative\"` respectively\n",
        "*   The x-axis values to be plotted should start from -4 (inclusive) to 4 (inclusive) with step size of 0.1\n",
        "*   The density line should be green, and the cumulative should be cyan.\n",
        "\n",
        "Upload a screenshot of the plot as well as a screenshot of the code chunk required to produce the plot into Coursemology.\n",
        "\n"
      ]
    },
    {
      "cell_type": "code",
      "execution_count": 84,
      "metadata": {
        "id": "g6FbhTp9kzLO"
      },
      "outputs": [
        {
          "data": {
            "text/plain": [
              "Text(0.5, 1.0, 'cumulative')"
            ]
          },
          "execution_count": 84,
          "metadata": {},
          "output_type": "execute_result"
        },
        {
          "data": {
            "image/png": "[encoded data removed]",
            "text/plain": [
              "<Figure size 640x480 with 2 Axes>"
            ]
          },
          "metadata": {},
          "output_type": "display_data"
        }
      ],
      "source": [
        "# Write your code here and upload a screenshot [Coursemology]\n",
        "x = np.arange(-4,4.1,0.1)\n",
        "fig, (ax1, ax2) = plt.subplots(1,2)\n",
        "fig.suptitle(\"Normal Distribution\")\n",
        "ax1.plot(x,stats.norm.pdf(x),'g-')\n",
        "ax1.set_title('density')\n",
        "ax2.plot(x,stats.norm.cdf(x),'c-')\n",
        "ax2.set_title('cumulative')"
      ]
    },
    {
      "cell_type": "markdown",
      "metadata": {
        "id": "Se7dZWSeinlW"
      },
      "source": [
        "# Submission to Coursemology\n",
        "\n",
        "Copy each code block that has the \"[Coursemology]\" comment to the appropriate question page in Coursemology.\n",
        "\n",
        "**Note:** Make sure that your code doesn't have any additional print statements except for the ones that are provided or instructed to be written.\n",
        "\n",
        "You may test your code in Coursemology by pressing the \"Submit\" question on each individual question. This will simply run and test your code and not submit your code for the final grading. To finalize your submission, press \"Finalise Submission\" button."
      ]
    }
  ],
  "metadata": {
    "colab": {
      "provenance": []
    },
    "kernelspec": {
      "display_name": "datascivenv",
      "language": "python",
      "name": "datascivenv"
    },
    "language_info": {
      "codemirror_mode": {
        "name": "ipython",
        "version": 3
      },
      "file_extension": ".py",
      "mimetype": "text/x-python",
      "name": "python",
      "nbconvert_exporter": "python",
      "pygments_lexer": "ipython3",
      "version": "3.11.4"
    }
  },
  "nbformat": 4,
  "nbformat_minor": 0
}
