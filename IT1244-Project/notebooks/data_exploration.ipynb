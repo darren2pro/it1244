{
 "cells": [
  {
   "cell_type": "code",
   "execution_count": 1,
   "metadata": {},
   "outputs": [],
   "source": [
    "import glob\n",
    "import matplotlib.pyplot as plt\n",
    "import librosa\n",
    "import numpy as np\n",
    "import torchaudio"
   ]
  },
  {
   "cell_type": "code",
   "execution_count": 2,
   "metadata": {},
   "outputs": [
    {
     "name": "stdout",
     "output_type": "stream",
     "text": [
      "[]\n"
     ]
    }
   ],
   "source": [
    "# Show all wav files\n",
    "directory = 'Dataset/Audio Dataset/Cats and Dogs/data'\n",
    "files = sorted(glob.glob(directory+'/*'))\n",
    "print(files)"
   ]
  },
  {
   "cell_type": "code",
   "execution_count": 3,
   "metadata": {},
   "outputs": [
    {
     "ename": "IndexError",
     "evalue": "list index out of range",
     "output_type": "error",
     "traceback": [
      "\u001b[0;31m---------------------------------------------------------------------------\u001b[0m",
      "\u001b[0;31mIndexError\u001b[0m                                Traceback (most recent call last)",
      "\u001b[1;32m/Users/chengchuan/School/Y4S1/IT1244/IT1244-Project/notebooks/data_exploration.ipynb Cell 3\u001b[0m line \u001b[0;36m2\n\u001b[1;32m      <a href='vscode-notebook-cell:/Users/chengchuan/School/Y4S1/IT1244/IT1244-Project/notebooks/data_exploration.ipynb#W6sZmlsZQ%3D%3D?line=0'>1</a>\u001b[0m \u001b[39m# Load the audio file\u001b[39;00m\n\u001b[0;32m----> <a href='vscode-notebook-cell:/Users/chengchuan/School/Y4S1/IT1244/IT1244-Project/notebooks/data_exploration.ipynb#W6sZmlsZQ%3D%3D?line=1'>2</a>\u001b[0m waveform, sample_rate \u001b[39m=\u001b[39m torchaudio\u001b[39m.\u001b[39mload(files[\u001b[39m100\u001b[39;49m])\n\u001b[1;32m      <a href='vscode-notebook-cell:/Users/chengchuan/School/Y4S1/IT1244/IT1244-Project/notebooks/data_exploration.ipynb#W6sZmlsZQ%3D%3D?line=2'>3</a>\u001b[0m \u001b[39mprint\u001b[39m(waveform\u001b[39m.\u001b[39mshape)\n\u001b[1;32m      <a href='vscode-notebook-cell:/Users/chengchuan/School/Y4S1/IT1244/IT1244-Project/notebooks/data_exploration.ipynb#W6sZmlsZQ%3D%3D?line=3'>4</a>\u001b[0m \u001b[39mprint\u001b[39m(sample_rate)\n",
      "\u001b[0;31mIndexError\u001b[0m: list index out of range"
     ]
    }
   ],
   "source": [
    "# Load the audio file\n",
    "waveform, sample_rate = torchaudio.load(files[100])\n",
    "print(waveform.shape)\n",
    "print(sample_rate)\n",
    "\n",
    "# Extract the spectrogram\n",
    "spectrogram = torchaudio.transforms.Spectrogram(n_fft=2048, hop_length=512)(waveform)\n",
    "mel_spectrogram = torchaudio.transforms.MelSpectrogram(sample_rate=sample_rate, n_fft=2048, hop_length=512, n_mels=128)(waveform)\n",
    "\n",
    "# Check the shape\n",
    "print(spectrogram.shape)\n",
    "print(mel_spectrogram.shape)\n",
    "print(mel_spectrogram)\n",
    "\n",
    "\n"
   ]
  },
  {
   "cell_type": "code",
   "execution_count": 18,
   "metadata": {},
   "outputs": [
    {
     "name": "stdout",
     "output_type": "stream",
     "text": [
      "[246960, 207006, 28522, 253575, 251370, 264600, 262395, 264600, 264600, 42148, 129125, 264600, 28048, 396371, 109280, 182314, 321666, 262395, 244755, 185220, 95168, 246960, 44365, 91552, 118365, 139180, 23814, 175456, 264600, 231525, 251370, 122789, 242550, 27519, 34928, 334984, 30529, 27650, 26498, 130016, 22897, 27380, 20765, 256321, 20765, 20765, 87230, 222970, 110171, 264600, 264600, 264600, 92610, 65004, 46482, 86260, 260190, 264600, 224381, 42866, 46180, 132300, 34398, 264600, 154527, 264600, 262395, 264600, 264600, 225415, 251370, 260190, 264600, 33693, 28930, 28048, 264600, 38720, 260190, 227115, 231525, 70296, 257985, 103635, 52920, 264600, 264600, 257985, 264600, 290443, 55874, 92458, 192894, 242550, 264600, 264600, 141826, 238140, 35457, 264600, 240345, 264600, 264600, 264600, 382347, 255780, 264600, 260190, 264600, 264600, 262395, 264600, 56448, 26119, 23914, 20360, 25445, 264600, 264600, 264600, 253575, 298945, 213885, 264600, 264600, 257985, 209475, 62799, 21709, 52058, 390021, 262395, 28842, 187161, 262395, 264600, 136710, 69414, 42866, 67121, 330750, 295206, 32811, 262395, 264600, 264600, 43777, 201096, 23991, 39073, 213885, 257985, 238140, 21609, 269363, 25843, 24770, 39746, 262395, 264600, 264600, 253575, 264600, 264600, 379265, 255780, 55008, 40883, 66050, 47682, 29140, 226276, 54552, 146410, 374811, 229247, 163453, 205001, 179487, 46305, 107265, 68384, 116259, 107859, 107859, 89737, 68179, 286762, 86612, 262395, 181075, 191374, 62432, 259430, 165320, 330715, 200068, 43513, 333609, 151255, 74970, 75314, 65492, 58055, 85177, 82982, 57189, 149584, 136035, 79875, 47396, 158842, 42480, 59719, 63952, 68663, 92871, 99610, 130554, 103418, 88209, 74480, 228149, 55722, 84682, 49508, 139577, 83613, 99009, 67570, 57510, 84231, 81966, 160727, 51042, 70864, 78832, 87251, 76531, 85909, 62023, 56548, 111896, 91738, 98368, 85611, 121041, 71911, 49674, 41397, 57180, 43789, 55939, 95051, 98276, 22396, 69873, 64340, 72618, 60750, 51428, 101269, 42538, 42397, 38210, 35037, 38890, 253575, 264600, 249165, 207270, 161730, 45935, 261926, 346611, 135233, 232373]\n",
      "{22050: 277}\n"
     ]
    }
   ],
   "source": [
    "signal_lengths = []\n",
    "signal_sr={}\n",
    "for audio in files:\n",
    "    signal, sr = librosa.load(audio)\n",
    "    signal_lengths.append(len(signal))\n",
    "    if sr not in signal_sr:\n",
    "        signal_sr[sr]=0\n",
    "    signal_sr[sr] += 1\n",
    "\n",
    "print(signal_lengths)\n",
    "print(signal_sr)"
   ]
  },
  {
   "cell_type": "code",
   "execution_count": null,
   "metadata": {},
   "outputs": [],
   "source": []
  }
 ],
 "metadata": {
  "kernelspec": {
   "display_name": "datascivenv",
   "language": "python",
   "name": "datascivenv"
  },
  "language_info": {
   "codemirror_mode": {
    "name": "ipython",
    "version": 3
   },
   "file_extension": ".py",
   "mimetype": "text/x-python",
   "name": "python",
   "nbconvert_exporter": "python",
   "pygments_lexer": "ipython3",
   "version": "3.11.4"
  }
 },
 "nbformat": 4,
 "nbformat_minor": 2
}
