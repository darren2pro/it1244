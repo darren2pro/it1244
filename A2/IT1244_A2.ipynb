{
  "cells": [
    {
      "cell_type": "markdown",
      "metadata": {
        "id": "8yRj6Htiebfn"
      },
      "source": [
        "\n",
        "# Programming Assignment 2 - Search I\n",
        "\n",
        "---\n",
        "\n",
        "## The N-Queen Problem\n",
        "\n",
        "You have an NxN (N = 4, 5, 6, ...) chessboard and are asked to place N queens on the chessboard, such that each column contains only one queen. In addition, no pair of queens should be attacking each other.\n",
        "\n",
        "## Objective\n",
        "\n",
        "The objective of the assignment is to implement a backtracking solution for the N-Queen problem using search techniques.\n",
        "\n",
        "### **Total Marks: 20**\n"
      ]
    },
    {
      "cell_type": "markdown",
      "metadata": {
        "id": "x2yyyaad8lLe"
      },
      "source": [
        "---\n",
        "\n",
        "### Q1 Visualising the Chessboard (3 marks)\n",
        "\n",
        "We can first create a function to print easy-to-read chessboards for the later questions. The function `print_board` takes in a `board`, which is a 2D list representing the rows of the board. Each square on the board is represented either by 0 (no queen) or 1 (has queen). The function prints the board **row by row**, and **there should be a space after the last element of each row**. (e.g. '0 1 0 0 ' instead of '0 1 0 0')"
      ]
    },
    {
      "cell_type": "code",
      "execution_count": 44,
      "metadata": {
        "id": "zzBkU7IbeaO5"
      },
      "outputs": [],
      "source": [
        "# Submit on Coursemology\n",
        "def print_board(board):\n",
        "    # start\n",
        "    for row in board:\n",
        "        for val in row:\n",
        "            print(val, end=\" \")\n",
        "        print()\n",
        "    # end"
      ]
    },
    {
      "cell_type": "code",
      "execution_count": 45,
      "metadata": {
        "colab": {
          "base_uri": "https://localhost:8080/"
        },
        "id": "EoAxrSzY1M_T",
        "outputId": "57d5b0b9-86d9-47d7-de31-c771f6cfc3b1"
      },
      "outputs": [
        {
          "name": "stdout",
          "output_type": "stream",
          "text": [
            "0 0 1 0 \n",
            "1 0 0 0 \n",
            "0 0 0 1 \n",
            "1 0 0 0 \n"
          ]
        }
      ],
      "source": [
        "# Testing\n",
        "\n",
        "N = 4\n",
        "board = [[0 for i in range(N)] for j in range(N)]\n",
        "board[1][0] = 1\n",
        "board[3][0] = 1\n",
        "board[0][2] = 1\n",
        "board[2][3] = 1\n",
        "\n",
        "print_board(board)"
      ]
    },
    {
      "cell_type": "markdown",
      "metadata": {
        "id": "jrdyOADe1XYc"
      },
      "source": [
        "Expected output:\n",
        "\n",
        "```\n",
        "0 0 1 0 \n",
        "1 0 0 0 \n",
        "0 0 0 1 \n",
        "1 0 0 0 \n",
        "```"
      ]
    },
    {
      "cell_type": "markdown",
      "metadata": {
        "id": "h1IjR2RDiEGE"
      },
      "source": [
        "---\n",
        "\n",
        "### Q2 Checking the Vertical Direction (2 marks)\n",
        "\n",
        "Now we can start with checking if queens are attacking each other, first in the vertical direction. The function `check_vertical` takes in a `board`, `row` and `col`, and returns True if placing a queen at (`row`, `col`) does not attack any other queens on the board, and False otherwise. **If a queen is already present on (`row`, `col`), skip that square and continue checking**. (e.g. if the board has a queen at (1, 1), you should skip board[1][1])"
      ]
    },
    {
      "cell_type": "code",
      "execution_count": 34,
      "metadata": {
        "id": "6R0zgXGCjCob"
      },
      "outputs": [],
      "source": [
        "# Submit on Coursemology\n",
        "def check_vertical(board, row, col):\n",
        "    for i in range(len(board)):\n",
        "        if board[i][col] == 1:\n",
        "            if i == row:\n",
        "                continue\n",
        "            else:\n",
        "                return False\n",
        "        \n",
        "    return True\n",
        "        \n",
        "    \n",
        "    # end"
      ]
    },
    {
      "cell_type": "code",
      "execution_count": 35,
      "metadata": {
        "id": "AGzSQp2i5J_z"
      },
      "outputs": [
        {
          "name": "stdout",
          "output_type": "stream",
          "text": [
            "False\n",
            "True\n",
            "True\n",
            "False\n"
          ]
        }
      ],
      "source": [
        "# Testing\n",
        "\n",
        "N = 4\n",
        "board = [[0 for i in range(N)] for j in range(N)]\n",
        "board[1][1] = 1\n",
        "\n",
        "print(check_vertical(board, 0, 1))\n",
        "print(check_vertical(board, 1, 1))\n",
        "print(check_vertical(board, 2, 2))\n",
        "print(check_vertical(board, 3, 1))"
      ]
    },
    {
      "cell_type": "markdown",
      "metadata": {},
      "source": [
        "Expected Output:\n",
        "\n",
        "```\n",
        "False\n",
        "True\n",
        "True\n",
        "False\n",
        "```"
      ]
    },
    {
      "cell_type": "markdown",
      "metadata": {
        "id": "eJCdCTQWiInr"
      },
      "source": [
        "---\n",
        "\n",
        "### Q3 Checking the Horizontal Direction (2 marks)\n",
        "\n",
        "The function `check_horizontal` checks if any queen is being attacked **only** in the horizontal direction. Remember to **skip any queen present at (`row`, `col`) and continue checking**."
      ]
    },
    {
      "cell_type": "code",
      "execution_count": 36,
      "metadata": {
        "id": "zmw7HR5Vj_in"
      },
      "outputs": [],
      "source": [
        "# Submit on Coursemology\n",
        "def check_horizontal(board, row, col):\n",
        "    for i in range(len(board)):\n",
        "        if board[row][i] == 1:\n",
        "            if i == col:\n",
        "                continue\n",
        "            else:\n",
        "                return False\n",
        "        \n",
        "    return True\n",
        "    # start\n",
        "    \n",
        "    # end"
      ]
    },
    {
      "cell_type": "code",
      "execution_count": 37,
      "metadata": {
        "id": "K21ggZs75oQT"
      },
      "outputs": [
        {
          "name": "stdout",
          "output_type": "stream",
          "text": [
            "False\n",
            "True\n",
            "True\n",
            "False\n"
          ]
        }
      ],
      "source": [
        "# Testing\n",
        "\n",
        "N = 4\n",
        "board = [[0 for i in range(N)] for j in range(N)]\n",
        "board[1][1] = 1\n",
        "\n",
        "print(check_horizontal(board, 1, 0))\n",
        "print(check_horizontal(board, 1, 1))\n",
        "print(check_horizontal(board, 2, 2))\n",
        "print(check_horizontal(board, 1, 3))"
      ]
    },
    {
      "cell_type": "markdown",
      "metadata": {},
      "source": [
        "Expected Output:\n",
        "\n",
        "```\n",
        "False\n",
        "True\n",
        "True\n",
        "False\n",
        "```"
      ]
    },
    {
      "cell_type": "markdown",
      "metadata": {
        "id": "JYA-PVFIiV-X"
      },
      "source": [
        "---\n",
        "\n",
        "### Q4 Checking the Diagonal Directions (2 marks)\n",
        "\n",
        "The function `check_diagonals` checks if any queen is being attacked **only** in the diagonal directions. Remember to **skip any queen present at (`row`, `col`) and continue cbecking**."
      ]
    },
    {
      "cell_type": "code",
      "execution_count": 48,
      "metadata": {
        "id": "niNJecpekjIy"
      },
      "outputs": [],
      "source": [
        "# Submit on Coursemology\n",
        "def check_diagonals(board, row, col):\n",
        "    # start\n",
        "    # top left\n",
        "    increment = 1\n",
        "    while row - increment >= 0 and col - increment >= 0:\n",
        "        if board[row - increment][col - increment] == 1:\n",
        "            return False\n",
        "        else:\n",
        "            increment += 1\n",
        "    # top right\n",
        "    increment = 1\n",
        "    while row - increment >= 0 and col + increment < len(board):\n",
        "        if board[row - increment][col + increment] == 1:\n",
        "            return False\n",
        "        else:\n",
        "            increment += 1\n",
        "    # bot left\n",
        "    increment = 1\n",
        "    while row + increment < len(board) and col - increment >= 0:\n",
        "        if board[row + increment][col - increment] == 1:\n",
        "            return False\n",
        "        else:\n",
        "            increment += 1\n",
        "    # bot right\n",
        "    increment = 1\n",
        "    while row + increment < len(board) and col + increment < len(board):\n",
        "        if board[row + increment][col + increment] == 1:\n",
        "            return False\n",
        "        else:\n",
        "            increment += 1\n",
        "    \n",
        "    return True\n",
        "    # end"
      ]
    },
    {
      "cell_type": "code",
      "execution_count": 49,
      "metadata": {
        "id": "ShVF6Wtyql1C"
      },
      "outputs": [
        {
          "name": "stdout",
          "output_type": "stream",
          "text": [
            "False\n",
            "True\n",
            "True\n",
            "True\n",
            "False\n",
            "False\n",
            "False\n"
          ]
        }
      ],
      "source": [
        "# Testing\n",
        "\n",
        "N = 4\n",
        "board = [[0 for i in range(N)] for j in range(N)]\n",
        "board[1][1] = 1\n",
        "\n",
        "print(check_diagonals(board, 0, 0))\n",
        "print(check_diagonals(board, 2, 1))\n",
        "print(check_diagonals(board, 3, 2))\n",
        "print(check_diagonals(board, 1, 3))\n",
        "print(check_diagonals(board, 0, 2))\n",
        "print(check_diagonals(board, 2, 0))\n",
        "print(check_diagonals(board, 3, 3))"
      ]
    },
    {
      "cell_type": "markdown",
      "metadata": {},
      "source": [
        "Expected Output:\n",
        "\n",
        "```\n",
        "False\n",
        "True\n",
        "True\n",
        "True\n",
        "False\n",
        "False\n",
        "False\n",
        "```"
      ]
    },
    {
      "cell_type": "markdown",
      "metadata": {
        "id": "aDJKl0G1iYxw"
      },
      "source": [
        "---\n",
        "\n",
        "### Q5 Combining All Checks (1 mark)\n",
        "\n",
        "Now we can combine all 3 individual checks to check if we can place a queen at the desired square. The function `check_safety` takes in a `board`, `row` and `col` and returns True if a queen can be placed at (`row`, `col`), and False otherwise. Correct implementations of `check_vertical`, `check_horizontal`, and `check_diagonals` have been given to you in Coursemology (i.e. you don't need to code them again)"
      ]
    },
    {
      "cell_type": "code",
      "execution_count": 46,
      "metadata": {
        "id": "CbhMOf4oxMtJ"
      },
      "outputs": [],
      "source": [
        "# Submit on Coursemology\n",
        "def check_safety(board, row, col):\n",
        "    # start\n",
        "    return check_vertical(board, row, col) and check_horizontal(board, row, col) and check_diagonals(board, row, col)\n",
        "    \n",
        "    # end"
      ]
    },
    {
      "cell_type": "code",
      "execution_count": 94,
      "metadata": {
        "id": "VIdYMFYk3CUo"
      },
      "outputs": [
        {
          "name": "stdout",
          "output_type": "stream",
          "text": [
            "0 0 1 0 \n",
            "1 0 0 0 \n",
            "0 0 0 1 \n",
            "0 1 0 0 \n",
            "True\n",
            "False\n",
            "True\n",
            "False\n"
          ]
        }
      ],
      "source": [
        "# Testing\n",
        "\n",
        "N = 4\n",
        "board = [[0 for i in range(N)] for j in range(N)]\n",
        "board[1][0] = 1\n",
        "board[3][1] = 1\n",
        "board[0][2] = 1\n",
        "board[2][3] = 1\n",
        "print_board(board)\n",
        "\n",
        "print(check_safety(board, 1,0)) # by placing a queen at (1,0)\n",
        "print(check_safety(board, 1,1)) # by placing a queen at (1,1)\n",
        "print(check_safety(board, 2,3)) # by placing a queen at (2,3)\n",
        "print(check_safety(board, 3,2)) # by placing a queen at (3,2)"
      ]
    },
    {
      "cell_type": "markdown",
      "metadata": {
        "id": "xGnZhsCI5Q44"
      },
      "source": [
        "Expected output:\n",
        "\n",
        "```\n",
        "True\n",
        "False\n",
        "True\n",
        "False\n",
        "```"
      ]
    },
    {
      "cell_type": "markdown",
      "metadata": {
        "id": "jkxbh08uFZwd"
      },
      "source": [
        "---\n",
        "\n",
        "### Q6 Search with Backtracking (6 marks)\n",
        "\n",
        "We can finally put together a function to solve the N-Queen problem using backtracking. A recursive approach is outlined below:\n",
        "\n",
        "1. For each recursion, place a queen in the leftmost empty column\n",
        "2. Starting from the first row of that column, check if a queen can be placed\n",
        "3. After a queen is placed in that column, proceed to the next empty column with a new recursive call\n",
        "4. If no queen can be placed in the current column after checking all rows, backtrack accordingly to a previous column and try placing a queen in a different row of that previous column (consider what should the recursive call return if this occurs)\n",
        "5. Once all queens have been placed on the board, return the filled board\n",
        "\n",
        "The function `solve` takes in a `board` and `col` and returns the filled board once all queens have been placed. Correct implementations of `print_board` and `check_safety` have been given to you in Coursemology (i.e. you don't need to code it again). Note that the approach above is meant for guidance, and you can choose to follow or implement your own solution."
      ]
    },
    {
      "cell_type": "code",
      "execution_count": 116,
      "metadata": {
        "id": "x0LTbMOHFZwe"
      },
      "outputs": [],
      "source": [
        "# Submit on Coursemology\n",
        "def solve(board, col):  \n",
        "    state = False\n",
        "    for i in range(len(board)):\n",
        "        if check_safety(board, i, col):\n",
        "            # place queen\n",
        "            board[i][col] = 1\n",
        "            \n",
        "            # recurse\n",
        "            if col == len(board)-1:\n",
        "                state = True\n",
        "            else:\n",
        "                state, board = solve(board, col+1)\n",
        "            \n",
        "            if state:\n",
        "                break\n",
        "            else:\n",
        "                board[i][col] = 0\n",
        "\n",
        "    return board if col == 0 else (state, board)\n",
        "    \n",
        "    \n",
        "    # end"
      ]
    },
    {
      "cell_type": "code",
      "execution_count": 117,
      "metadata": {
        "colab": {
          "base_uri": "https://localhost:8080/"
        },
        "id": "abKT0AKAFZwf",
        "outputId": "c467907c-5d45-4bbc-c917-3307972db33f"
      },
      "outputs": [
        {
          "name": "stdout",
          "output_type": "stream",
          "text": [
            "0 0 1 0 \n",
            "1 0 0 0 \n",
            "0 0 0 1 \n",
            "0 1 0 0 \n"
          ]
        }
      ],
      "source": [
        "# Testing\n",
        "\n",
        "N = 4\n",
        "board = [[0 for i in range(N)] for j in range(N)]\n",
        "print_board(solve(board, 0))\n"
      ]
    },
    {
      "cell_type": "markdown",
      "metadata": {
        "id": "gTH-ViF6FZwf"
      },
      "source": [
        "Expected output: (there may be more than 1 solution)\n",
        "```\n",
        "0 0 1 0 \n",
        "1 0 0 0 \n",
        "0 0 0 1 \n",
        "0 1 0 0 \n",
        "```"
      ]
    },
    {
      "cell_type": "markdown",
      "metadata": {},
      "source": [
        "---\n",
        "\n",
        "### Q7 Reflection (3 marks)\n",
        "\n",
        "In this question, list out the difficulties and how you overcome them when doing the assignment. You can also talk about what you have learned and how do you think we should improve the assignment here. Please list your comments in bullet points. **This section is graded**. Note that you won't get a mark when you submit this question, but you will automatically be awarded the full mark when finalising submission (Coursemology limitation)"
      ]
    },
    {
      "cell_type": "markdown",
      "metadata": {},
      "source": [
        "Please enter your comments here by double-clicking on this text cell:\n",
        "* comment 1\n",
        "* comment 2\n",
        "* etc."
      ]
    },
    {
      "cell_type": "markdown",
      "metadata": {
        "id": "fOMDVAKyDpAM"
      },
      "source": [
        "---\n",
        "\n",
        "# End of Assignment"
      ]
    }
  ],
  "metadata": {
    "colab": {
      "provenance": []
    },
    "kernelspec": {
      "display_name": "datascivenv",
      "language": "python",
      "name": "datascivenv"
    },
    "language_info": {
      "codemirror_mode": {
        "name": "ipython",
        "version": 3
      },
      "file_extension": ".py",
      "mimetype": "text/x-python",
      "name": "python",
      "nbconvert_exporter": "python",
      "pygments_lexer": "ipython3",
      "version": "3.11.4"
    }
  },
  "nbformat": 4,
  "nbformat_minor": 0
}
