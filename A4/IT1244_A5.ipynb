{
  "cells": [
    {
      "cell_type": "markdown",
      "metadata": {
        "id": "8yRj6Htiebfn"
      },
      "source": [
        "\n",
        "# Programming Assignment 5 - Linear Regression\n",
        "\n",
        "---\n",
        "\n",
        "## Boston Housing Dataset\n",
        "\n",
        "Each instance in this dataset describes the attributes of a housing property in Boston suburb and the task is to predict the house prices in thousands of dollars. There are 13 numerical attributes with varying scales describing the housing properties of suburbs. The readme file in the dataset provides details on the dataset. Read this file before implementing your algorithm to check whether you need to do any data preprocessing steps. The 13 attributes of each property and the housing price (in $1000's) are given as follows:\n",
        "1. CRIM - per capita crime rate by town\n",
        "2. ZN - proportion of residential land zoned for lots over 25,000 sq.ft.\n",
        "3. INDUS - proportion of non-retail business acres per town\n",
        "4. CHAS - Charles River dummy variable (= 1 if tract bounds river; 0 otherwise)\n",
        "5. NOX - nitric oxides concentration (parts per 10 million)\n",
        "6. RM - average number of rooms per dwelling\n",
        "7. AGE - proportion of owner-occupied units built prior to 1940\n",
        "8. DIS - weighted distances to five Boston employment centres\n",
        "9. RAD - index of accessibility to radial highways\n",
        "10. TAX - full-value property-tax rate per $10,000\n",
        "11. PTRATIO - pupil-teacher ratio by town\n",
        "12. B - 1000 (Bk - 0.63) ^ 2 where Bk is the proportion of blacks by town\n",
        "13. LSTAT - % lower status of the population\n",
        "14. MEDV - Median value of owner-occupied homes in $1000's\n",
        "\n",
        "`housing.data` contains the actual dataset.\n",
        "\n",
        "**IMPORTANT**: you can assume that the last column will always contain the y values. However, your code will be tested against datasets of varying number of rows and columns, so do not hardcode (e.g. `[:13]`)\n",
        "\n",
        "## Objective\n",
        "\n",
        "You are to implement a linear regression algorithm using gradient descent to predict the price of a house given the details of the property. After completing this assignment, you should be familiar with the following:\n",
        "1. Loading a dataset\n",
        "2. Normalising a dataset\n",
        "3. Splitting a dataset into training and testing set\n",
        "4. Computing the RMSE between a predicted value and actual value\n",
        "5. Implementing gradient descent to find optimal parameters\n",
        "6. Applying linear regression with optimal parameters for prediction\n",
        "\n",
        "### **Total Marks: 30**\n",
        "---"
      ]
    },
    {
      "cell_type": "markdown",
      "metadata": {
        "id": "JA3DODTROxzG"
      },
      "source": [
        "\n",
        "## Downloading the Dataset and Importing Modules\n",
        "\n",
        "You can follow the steps below to download the dataset and upload it to a Colab environment.\n",
        "1. Download the dataset from https://archive.ics.uci.edu/ml/machine-learning-databases/housing/housing.data (save it as a text file)\n",
        "2. Open the Colab file browser by pressing the small folder icon on the top left of the Colab page.  \n",
        "3. Drag and drop the `housing.data` file into the Colab folder `/content/`.\n",
        "\n",
        "We will be using `math` and `numpy` as `np` for the questions. **You do not need to import them when submitting on Coursemology.**"
      ]
    },
    {
      "cell_type": "code",
      "execution_count": 235,
      "metadata": {
        "colab": {
          "base_uri": "https://localhost:8080/"
        },
        "id": "5c4R1cOPhFMM",
        "outputId": "7f166e8a-db2c-4040-fe1e-6435310c2d82"
      },
      "outputs": [],
      "source": [
        "import math\n",
        "import numpy as np\n",
        "\n",
        "# to display the float numbers with 2 decimal points and supress the use of\n",
        "# scientific notations for small numbers\n",
        "## np.set_printoptions(precision=2, suppress=True)"
      ]
    },
    {
      "cell_type": "markdown",
      "metadata": {
        "id": "8DANbMtO1Bqx"
      },
      "source": [
        "---\n",
        "\n",
        "### Q1 load_data (3 marks)\n",
        "\n",
        "We first need to load the dataset from `housing.data` and store the relevant data in numpy arrays.\n",
        "\n",
        "The function `load_data` takes in a **text** file `filename` and returns the numpy array `dataset`, containing the contents of the dataset as type **float**. Please **leave the rows and columns in the order that they appear** in the text file.\n",
        "\n",
        "Tip: there's a numpy function that reads text files and converts their contents into arrays."
      ]
    },
    {
      "cell_type": "code",
      "execution_count": 236,
      "metadata": {
        "id": "Og4vGG41a3tr"
      },
      "outputs": [],
      "source": [
        "# Submit to Coursemology\n",
        "def load_data(filename):\n",
        "    '''\n",
        "    filename: string, the path to the house.data file\n",
        "    RETURN\n",
        "        dataset: numpy array, shape = [N, 14]\n",
        "    '''\n",
        "    with open(filename[1:], 'rb') as f:\n",
        "        dataset = np.loadtxt(f)\n",
        "        # for line in f.readline():\n",
        "        #     dataset.append(np.fromstring(line, sep=' '))\n",
        "    ## start your code here\n",
        "    \n",
        "    \n",
        "    ## end\n",
        "    return dataset"
      ]
    },
    {
      "cell_type": "code",
      "execution_count": 237,
      "metadata": {
        "colab": {
          "base_uri": "https://localhost:8080/"
        },
        "id": "3l0xTXhg4zfg",
        "outputId": "0f9a0c76-ef2b-4ae3-dbcb-c848bad8d62d"
      },
      "outputs": [
        {
          "name": "stdout",
          "output_type": "stream",
          "text": [
            "(506, 14)\n",
            "[3.61352356e+00 1.13636364e+01 1.11367787e+01 6.91699605e-02\n",
            " 5.54695059e-01 6.28463439e+00 6.85749012e+01 3.79504269e+00\n",
            " 9.54940711e+00 4.08237154e+02 1.84555336e+01 3.56674032e+02\n",
            " 1.26530632e+01 2.25328063e+01]\n"
          ]
        }
      ],
      "source": [
        "# Testing\n",
        "\n",
        "filename = \"/content/housing.data\" \n",
        "dataset = load_data(filename)\n",
        "\n",
        "print(dataset.shape)\n",
        "print(np.mean(dataset, axis=0))"
      ]
    },
    {
      "cell_type": "markdown",
      "metadata": {
        "id": "PkOB2VCV01nz"
      },
      "source": [
        "Expected output:\n",
        "```\n",
        "(506, 14)\n",
        "[3.61352356e+00 1.13636364e+01 1.11367787e+01 6.91699605e-02\n",
        " 5.54695059e-01 6.28463439e+00 6.85749012e+01 3.79504269e+00\n",
        " 9.54940711e+00 4.08237154e+02 1.84555336e+01 3.56674032e+02\n",
        " 1.26530632e+01 2.25328063e+01]\n",
        "```\n"
      ]
    },
    {
      "cell_type": "markdown",
      "metadata": {
        "id": "6so9ooq3092o"
      },
      "source": [
        "---\n",
        "\n",
        "### Q2 normalize (3 marks)\n",
        "\n",
        "As per usual, we will now feature scale our data, but this time using normalisation. Each column in `dataset` needs to be normalized separately. That is, for each column, for each value, we subtract the minimum from that column and then divide by (max of column - min of column).\n",
        "\n",
        "The function `normalize` takes in a `dataset` and returns the normalized dataset `dataset_normalized`. **The last column (i.e. the y values) should not be normalized**."
      ]
    },
    {
      "cell_type": "code",
      "execution_count": 238,
      "metadata": {
        "id": "PxoCoHXP42T1"
      },
      "outputs": [],
      "source": [
        "# Submit to Coursemology\n",
        "def normalize(dataset):\n",
        "    '''\n",
        "    dataset: numpy array, shape = [N, D]\n",
        "    RETURN\n",
        "        dataset_normalized: numpy array, shape = [N, D]\n",
        "    '''\n",
        "    dataset_normalized = np.zeros_like(dataset)\n",
        "    for col_idx in range(dataset.shape[1]-1):\n",
        "        dataset_normalized[:, col_idx] = (dataset[:, col_idx] - np.min(dataset[:, col_idx])) / (np.max(dataset[:, col_idx]) - np.min(dataset[:, col_idx]))\n",
        "\n",
        "    dataset_normalized[:, -1] = dataset[:, -1]\n",
        "    ## start your code here\n",
        "    \n",
        "    \n",
        "    ## end\n",
        "    return dataset_normalized"
      ]
    },
    {
      "cell_type": "code",
      "execution_count": 239,
      "metadata": {
        "colab": {
          "base_uri": "https://localhost:8080/"
        },
        "id": "UXoRu6qrkb9B",
        "outputId": "c1651596-b25c-4004-a3b3-f2fee447a1a9"
      },
      "outputs": [
        {
          "name": "stdout",
          "output_type": "stream",
          "text": [
            "(506, 14)\n",
            "[ 0.0405441   0.11363636  0.39137752  0.06916996  0.34916679  0.52186901\n",
            "  0.67636355  0.24238128  0.37171335  0.42220831  0.62292911  0.89856783\n",
            "  0.30140903 22.53280632]\n"
          ]
        }
      ],
      "source": [
        "# Testing\n",
        "\n",
        "dataset_normalized = normalize(dataset)\n",
        "print(dataset_normalized.shape)\n",
        "print(np.mean(dataset_normalized,axis=0))"
      ]
    },
    {
      "cell_type": "markdown",
      "metadata": {
        "id": "DvMVe-x3MkgU"
      },
      "source": [
        "Expected output:\n",
        "```\n",
        "(506, 14)\n",
        "[ 0.0405441   0.11363636  0.39137752  0.06916996  0.34916679  0.52186901\n",
        "  0.67636355  0.24238128  0.37171335  0.42220831  0.62292911  0.89856783\n",
        "  0.30140903 22.53280632]\n",
        "```"
      ]
    },
    {
      "cell_type": "markdown",
      "metadata": {
        "id": "2_RSjrhbRHTt"
      },
      "source": [
        "---\n",
        "\n",
        "### Q3 add_bias (3 marks)\n",
        "\n",
        "Now, we need to add a bias to each row for the linear regression to include the weight w0.\n",
        "\n",
        "The function `add_bias` takes in a `dataset` and returns the dataset with an additional first column of bias 1 `dataset_ones` (i.e. with a R x C dataset, it should return a R x (C + 1) dataset with the leftmost column being all 1s)."
      ]
    },
    {
      "cell_type": "code",
      "execution_count": 240,
      "metadata": {
        "id": "2cEDfBaM46PT"
      },
      "outputs": [],
      "source": [
        "# Submit to Coursemology\n",
        "def add_bias(dataset):\n",
        "    '''\n",
        "    dataset: numpy array, shape = [N,D]\n",
        "    RETURN\n",
        "        dataset_ones: numpy array, shape = [N, D+1]\n",
        "    '''\n",
        "    dataset_ones = np.ones((dataset.shape[0], dataset.shape[1]+1))\n",
        "    dataset_ones[:, 1:] = dataset[:, :]\n",
        "    ## Start your code here\n",
        "    \n",
        "\n",
        "    ## end\n",
        "    return dataset_ones"
      ]
    },
    {
      "cell_type": "code",
      "execution_count": 241,
      "metadata": {
        "colab": {
          "base_uri": "https://localhost:8080/"
        },
        "id": "48zz5lDbow4x",
        "outputId": "e130f12e-759e-4cea-ae62-cf225500f85c"
      },
      "outputs": [
        {
          "name": "stdout",
          "output_type": "stream",
          "text": [
            "(506, 15)\n",
            "[ 1.          0.01399878  0.          0.28152493  0.          0.31481481\n",
            "  0.38493964  0.98043254  0.24264111  0.13043478  0.22900763  0.89361702\n",
            "  0.9487367   0.53228477 13.6       ]\n"
          ]
        }
      ],
      "source": [
        "# Testing\n",
        "\n",
        "dataset_ones = add_bias(dataset_normalized)\n",
        "print(dataset_ones.shape)\n",
        "print(dataset_ones[20])"
      ]
    },
    {
      "cell_type": "markdown",
      "metadata": {
        "id": "Hg0PLrsUSFt3"
      },
      "source": [
        "Expected output:\n",
        "```\n",
        "(506, 15)\n",
        "[ 1.          0.01399878  0.          0.28152493  0.          0.31481481\n",
        "  0.38493964  0.98043254  0.24264111  0.13043478  0.22900763  0.89361702\n",
        "  0.9487367   0.53228477 13.6       ]\n",
        "```"
      ]
    },
    {
      "cell_type": "markdown",
      "metadata": {
        "id": "4EEdmQoxyQcF"
      },
      "source": [
        "---\n",
        "\n",
        "### Q4 split_dataset (3 marks)\n",
        "\n",
        "We have one last data manipulation to complete before training our model - splitting the dataset into a training set and a testing set.\n",
        "\n",
        "The function `split_dataset` takes in a `dataset` and returns the training set comprising of arrays `train_X` and `train_y`, and the testing set comprising of arrays `test_X` and `test_y`. The training set is made up of the **first 80%** of the dataset whiled the testing set is made up of the remaining 20%. X refers to all the columns except the last one, and y refers to the last column.\n",
        "\n",
        "Tip: `np.shape()` can be used to get the number of rows in the dataset."
      ]
    },
    {
      "cell_type": "code",
      "execution_count": 242,
      "metadata": {
        "id": "VwUCeGNR4-MN"
      },
      "outputs": [],
      "source": [
        "# Submit to Coursemology\n",
        "def split_dataset(dataset):\n",
        "    '''\n",
        "    dataset: numpy array, shape = [N, D]\n",
        "    RETURN\n",
        "        train_X: numpy array, shape = [int(N * 0.8), D-1]\n",
        "        test_X: numpy array, shape = [N-int(N * 0.8), D-1]\n",
        "        train_y: numpy array, shape = [int(N * 0.8), 1]\n",
        "        test_y: numpy array, shape = [N-int(N * 0.8), 1]\n",
        "    '''\n",
        "    r, c = dataset.shape\n",
        "    train_r = int(0.8*r)\n",
        "    train_X, test_X = dataset[:train_r, :c-1], dataset[train_r:, :c-1]\n",
        "    train_y, test_y = dataset[:train_r, -1].reshape(-1, 1), dataset[train_r:, -1].reshape(-1, 1)\n",
        "    ## start your code here\n",
        "    \n",
        "    \n",
        "    ## end \n",
        "    return train_X, test_X, train_y, test_y"
      ]
    },
    {
      "cell_type": "code",
      "execution_count": 243,
      "metadata": {
        "colab": {
          "base_uri": "https://localhost:8080/"
        },
        "id": "hABMkOM9p0Ie",
        "outputId": "2d6cac89-e1e6-4055-c070-ffab1ca51b40"
      },
      "outputs": [
        {
          "name": "stdout",
          "output_type": "stream",
          "text": [
            "(404, 14) (102, 14) (404, 1) (102, 1)\n"
          ]
        }
      ],
      "source": [
        "# Testing\n",
        "\n",
        "train_X, test_X, train_y, test_y = split_dataset(dataset_ones)\n",
        "print(train_X.shape, test_X.shape, train_y.shape, test_y.shape)"
      ]
    },
    {
      "cell_type": "markdown",
      "metadata": {
        "id": "oWp5OQqCT-Ek"
      },
      "source": [
        "Expected output:\n",
        "```\n",
        "(404, 14) (102, 14) (404, 1) (102, 1)\n",
        "```"
      ]
    },
    {
      "cell_type": "markdown",
      "metadata": {
        "id": "ABoEeHOR56_5"
      },
      "source": [
        "---\n",
        "\n",
        "### Q5 model (2 marks)\n",
        "\n",
        "We can start to build our linear regression model.\n",
        "\n",
        "For a dataset with N rows and D columns, the function `model` takes in n array of x values `X` (of shape N x D) and an array of weights `W` (of shape D x 1) and returns an array of predicted values for each data sample `prediction` (of shape N x 1)."
      ]
    },
    {
      "cell_type": "code",
      "execution_count": 244,
      "metadata": {},
      "outputs": [],
      "source": [
        "# Submit to Coursemology\n",
        "def model(X, W):\n",
        "    '''\n",
        "    X: numpy array, shape = [N, D]\n",
        "    W: numpy array, shape = [D, 1]\n",
        "    RETURN\n",
        "        prediction: numpy array, shape = [N, 1]\n",
        "    '''\n",
        "    prediction = np.matmul(W,X)\n",
        "    ## start your code here\n",
        "    \n",
        "    \n",
        "    ## end\n",
        "    return prediction"
      ]
    },
    {
      "cell_type": "code",
      "execution_count": 245,
      "metadata": {
        "colab": {
          "base_uri": "https://localhost:8080/"
        },
        "id": "p7gtmwk074Dm",
        "outputId": "6fc76b45-7d16-44d0-85a9-85de0b6759a3"
      },
      "outputs": [
        {
          "name": "stdout",
          "output_type": "stream",
          "text": [
            "(506, 1)\n"
          ]
        }
      ],
      "source": [
        "# Testing\n",
        "\n",
        "y_hat = model(np.zeros((dataset.shape[1],1)), dataset_ones[:,:-1])\n",
        "print(y_hat.shape)"
      ]
    },
    {
      "cell_type": "markdown",
      "metadata": {
        "id": "W15IzCsDnyrO"
      },
      "source": [
        "Expected output:\n",
        "```\n",
        "(506, 1)\n",
        "```"
      ]
    },
    {
      "cell_type": "markdown",
      "metadata": {
        "id": "nOCWb-ksNZ8_"
      },
      "source": [
        "---\n",
        "\n",
        "### Q6 mse_function (3 marks)\n",
        "\n",
        "We need a loss function as a metric for our gradient descent to determine how well our model is doing.\n",
        "\n",
        "The function `mse_function` takes in an array of actual y values `y` and an array of predicted y values `y_hat` and returns an array of mean squared error (MSE) `loss`. This function **should not use loops** as it can be done directly through array operations.\n",
        "\n",
        "Tip: `np.dot()` can be used for matrix multiplication."
      ]
    },
    {
      "cell_type": "code",
      "execution_count": 265,
      "metadata": {
        "id": "XhOLIxGHH6KT"
      },
      "outputs": [],
      "source": [
        "# Submit to Coursemology\n",
        "def mse_function(y_hat, y):\n",
        "    '''\n",
        "    y_hat: numpy array, shape = [N, 1]\n",
        "    y: numpy array, shape = [N, 1]\n",
        "    RETURN\n",
        "        loss: float value\n",
        "    '''\n",
        "    loss = np.mean(np.power(y_hat-y, 2))\n",
        "    ## start your code here\n",
        "    \n",
        "    \n",
        "    ## end \n",
        "    return loss"
      ]
    },
    {
      "cell_type": "markdown",
      "metadata": {
        "id": "askXs6-iN0NY"
      },
      "source": [
        "When you run this code, you should get the expected output as shown below:"
      ]
    },
    {
      "cell_type": "code",
      "execution_count": 266,
      "metadata": {
        "colab": {
          "base_uri": "https://localhost:8080/"
        },
        "id": "q_mAun-05M6r",
        "outputId": "877a6653-bf5a-4b55-c6da-1ee84e73ca6f"
      },
      "outputs": [
        {
          "name": "stdout",
          "output_type": "stream",
          "text": [
            "592.1469169960474\n"
          ]
        }
      ],
      "source": [
        "# Testing\n",
        "\n",
        "N = dataset_ones.shape[1]\n",
        "print(mse_function(y_hat,dataset_ones[:,-1:]))"
      ]
    },
    {
      "cell_type": "markdown",
      "metadata": {
        "id": "nG9QH9tBVoOb"
      },
      "source": [
        "Expected output:\n",
        "```\n",
        "592.1469169960474\n",
        "```"
      ]
    },
    {
      "cell_type": "markdown",
      "metadata": {
        "id": "eJUGpmlP-W4b"
      },
      "source": [
        "---\n",
        "\n",
        "### Q7 gradient (4 marks)\n",
        "\n",
        "The next step is to produce our gradients so that we can update our weights. This can be done in the following steps:\n",
        "1. Compute y_hat (of shape R x 1)\n",
        "2. Compute difference between y_hat and actual y\n",
        "3. Multiply X by the difference in step 2\n",
        "4. Divide by number of rows N to get gradient\n",
        "\n",
        "The function `gradient` takes in x values `X` (of shape N x D), weights `W` (of shape D x 1),  and y values `y` (of shape N x 1) and returns an array of gradients for each weight `grad`. Return values to the **nearest 6 decimal places using `round()`**."
      ]
    },
    {
      "cell_type": "code",
      "execution_count": 296,
      "metadata": {
        "id": "WzJLJ8tX-ZNI"
      },
      "outputs": [],
      "source": [
        "# Submit to Coursemology\n",
        "def gradient(X, W, y):\n",
        "    '''\n",
        "    X: numpy array, shape = [N, D]\n",
        "    W: numpy array, shape = [D, 1]\n",
        "    y: numpy array, shape = [N, 1]\n",
        "    RETURN\n",
        "        grad: numpy array, shape = [D, 1]\n",
        "    '''\n",
        "    y_hat = np.dot(X,W)\n",
        "    loss = y-y_hat\n",
        "    temp = X * loss\n",
        "    grad = np.sum((1/X.shape[0]) * temp, axis=0).reshape(W.shape[0], 1)\n",
        "    return grad"
      ]
    },
    {
      "cell_type": "code",
      "execution_count": 297,
      "metadata": {
        "id": "31PeCl4U-lxR"
      },
      "outputs": [
        {
          "name": "stdout",
          "output_type": "stream",
          "text": [
            "[[-45.5], [-64.0], [-82.5]]\n"
          ]
        }
      ],
      "source": [
        "# Testing\n",
        "\n",
        "resultlist = gradient(np.array([[1,2,3],[3,4,5]]),np.array([[5],[2],[1]]),np.array([[2],[1]])).tolist()\n",
        "print(resultlist)"
      ]
    },
    {
      "cell_type": "markdown",
      "metadata": {
        "id": "QTpmMuRuVmQ9"
      },
      "source": [
        "\n",
        "Expected output:\n",
        "```\n",
        "[[-45.5], [-64.0], [-82.5]]\n",
        "```\n",
        "\n"
      ]
    },
    {
      "cell_type": "markdown",
      "metadata": {
        "id": "eR0D8v-2G0e7"
      },
      "source": [
        "---\n",
        "\n",
        "### Q8 gradient_descent (3 marks)\n",
        "\n",
        "With everything else settled, we can create our gradient descent function.\n",
        "\n",
        "The function `gradient_descent` takes in the training data `train_X` and `train_y`, the testing data `test_X` and `test_y`, the learning rate `L` and the number iterations to run `num_iter`. It returns the array of optimal parameters `best_W` and the a dictionary tracking the training data loss and testing data loss `loss_history`.\n",
        "\n",
        "You only need to implement the updating of weights in each iteration as given in the following steps:\n",
        "1. Predict y values using the weights `W` and x values `train_X` (remember to use only the **training data**)\n",
        "2. Calculate the gradient of the loss function\n",
        "3. Update the weights `W`\n",
        "\n",
        "A correct implementation of `gradient` has been given to you in Coursemology (i.e. you don't need to code it again)"
      ]
    },
    {
      "cell_type": "code",
      "execution_count": 300,
      "metadata": {
        "id": "ptsENRpDY1Yg"
      },
      "outputs": [],
      "source": [
        "# Submit to Coursemology\n",
        "def gradient_descent(train_X, train_y, test_X, test_y, L, num_iter):  \n",
        "    '''\n",
        "    train_X: numpy array, shape = [N_train, D]\n",
        "    test_X: numpy array, shape = [N_test, D]\n",
        "    train_y: numpy array, shape = [N_train, 1]\n",
        "    test_y: numpy array, shape = [N_test, 1]\n",
        "    L: float value\n",
        "    num_iter: int value\n",
        "    RETURN\n",
        "        best_W: numpy array, shape = [D, 1]\n",
        "        loss_history: numpy array, shape = [2, num_iter]\n",
        "    '''\n",
        "    N_train, D = train_X.shape # number of training samples, number of features\n",
        "    W = np.zeros((D,1)) # the parameters of the linear regression model\n",
        "    best_W = None # the optimized parameters on the training data \n",
        "\n",
        "    # record loss of each iteration - both rmse between training data and target\n",
        "    # data as well as between testing data and target data.\n",
        "    loss_history = { 'train': [], 'test': [] }\n",
        "\n",
        "    # Gradient descent steps\n",
        "    for i in range(num_iter): \n",
        "        ## start your code here\n",
        "        W = W + L * gradient(train_X, W,train_y)\n",
        "        ## end of your code\n",
        "\n",
        "        train_y_hat = model(W, train_X)\n",
        "        test_y_hat = model(W, test_X)\n",
        "        \n",
        "        train_loss = mse_function(train_y_hat, train_y)\n",
        "        test_loss = mse_function(test_y_hat, test_y)\n",
        "\n",
        "        if len(loss_history['test']) > 0 and test_loss < loss_history['test'][-1]: # better test loss\n",
        "            best_W = np.copy(W) # store the optimal parameter\n",
        "        \n",
        "        loss_history['train'].append(train_loss)\n",
        "        loss_history['test'].append(test_loss)\n",
        "\n",
        "    return best_W, loss_history"
      ]
    },
    {
      "cell_type": "code",
      "execution_count": 301,
      "metadata": {
        "id": "qiQng79P5TxH"
      },
      "outputs": [
        {
          "name": "stdout",
          "output_type": "stream",
          "text": [
            "[[ 9.93008179 -1.09184095  4.62616462 -1.4178688   3.02227804 -0.43412238\n",
            "  11.71497134  1.5884702   2.62489101 -0.92561114 -1.72612043 -1.62906862\n",
            "   9.52457346 -5.8227015 ]]\n",
            "17.167879004711903\n"
          ]
        }
      ],
      "source": [
        "# Testing\n",
        "\n",
        "best_W, loss_history = gradient_descent(train_X, train_y, test_X, test_y, 0.01, 5000)\n",
        "print(best_W.T)\n",
        "print(mse_function(model(best_W, test_X), test_y))"
      ]
    },
    {
      "cell_type": "markdown",
      "metadata": {
        "id": "88UhqfFGISOv"
      },
      "source": [
        "\n",
        "Expected output:\n",
        "\n",
        "```\n",
        "[[ 9.93008179 -1.09184095  4.62616462 -1.4178688   3.02227804 -0.43412238\n",
        "  11.71497134  1.5884702   2.62489101 -0.92561114 -1.72612043 -1.62906862\n",
        "   9.52457346 -5.8227015 ]]\n",
        "17.167879004711896\n",
        "```"
      ]
    },
    {
      "cell_type": "markdown",
      "metadata": {
        "id": "YDGdGQ9k1Z7t"
      },
      "source": [
        "**Bonus: plotting the learning curve**\n",
        "\n",
        "When you run the following code, you should get something similar to the graph shown below:\n",
        "\n",
        "![graph image here (LRGDgrph1.png)](https://drive.google.com/uc?export=view&id=1-MJzt4mKpwUYHYGfSkmdcqnQdZF6rs7a)"
      ]
    },
    {
      "cell_type": "code",
      "execution_count": 302,
      "metadata": {
        "id": "AZDS87u35W1-"
      },
      "outputs": [
        {
          "data": {
            "image/png": "[encoded data removed]",
            "text/plain": [
              "<Figure size 640x480 with 1 Axes>"
            ]
          },
          "metadata": {},
          "output_type": "display_data"
        }
      ],
      "source": [
        "# Plot the learning curve\n",
        "import matplotlib.pyplot as plt\n",
        "\n",
        "x_values = range(1,len(loss_history['train'])+1)\n",
        "plt.plot(x_values, loss_history['train'], 'b', label=\"Traning Loss\")\n",
        "plt.plot(x_values, loss_history['test'], 'r', label=\"Testing Loss\")\n",
        "plt.title(\"Training and Testing Loss\")\n",
        "plt.xlabel(\"number of iterations\")\n",
        "plt.ylabel(\"Loss\")\n",
        "plt.legend()\n",
        "\n",
        "plt.show()"
      ]
    },
    {
      "cell_type": "markdown",
      "metadata": {
        "id": "pJ1kQ--oARm6"
      },
      "source": [
        "---\n",
        "\n",
        "### Q9 Prediction using the Linear Regression Model (2 marks)\n",
        "\n",
        "Let's test our linear regression model.\n",
        "\n",
        "Given new data `new_X` and the optimal parameters `best_W` (from Q8), use the `model` function from Q5 to predict the price. A correct implementation of `model` has been given to you in Coursemology (i.e. you don't need to code it again)"
      ]
    },
    {
      "cell_type": "code",
      "execution_count": 303,
      "metadata": {
        "id": "aruXXS2KAUKM"
      },
      "outputs": [],
      "source": [
        "# the test data below is already normalzied\n",
        "new_dataset = np.asarray([[1.000,0.001,0.125,0.272,0.000,0.286,0.470,0.656,0.403,0.174,0.237,0.277,0.997,0.295,22.900],\n",
        "[1.000,0.002,0.000,0.236,0.000,0.130,0.426,0.313,0.361,0.087,0.088,0.564,1.000,0.343,20.000],\n",
        "[1.000,0.001,0.125,0.206,0.000,0.049,0.390,0.349,0.488,0.130,0.302,0.670,1.000,0.313,17.400],\n",
        "[1.000,0.001,0.000,0.148,0.000,0.132,0.588,0.548,0.301,0.087,0.115,0.628,0.988,0.132,26.600],\n",
        "[1.000,0.001,0.000,0.297,0.000,0.278,0.492,0.848,0.090,0.174,0.376,0.883,0.977,0.341,20.400],\n",
        "[1.000,0.004,0.000,0.786,0.000,0.492,0.555,0.989,0.090,0.130,0.477,0.915,0.995,0.300,19.200],\n",
        "[1.000,0.021,0.000,0.701,1.000,0.453,0.813,0.981,0.083,0.174,0.412,0.223,0.982,0.005,35.000],\n",
        "[1.000,0.001,0.000,0.073,0.000,0.212,0.391,0.895,0.169,0.087,0.011,0.553,0.985,0.338,26.400],\n",
        "[1.000,0.003,0.000,0.371,0.000,0.214,0.530,0.511,0.293,0.130,0.172,0.638,0.995,0.255,24.400],\n",
        "[1.000,0.005,0.000,0.210,0.000,0.245,0.573,0.191,0.204,0.304,0.229,0.511,0.958,0.056,31.500],\n",
        "[1.000,0.004,0.000,0.346,0.000,0.327,0.541,0.662,0.219,0.130,0.223,0.617,0.996,0.238,23.100],\n",
        "[1.000,0.001,0.000,0.102,0.000,0.154,0.442,0.236,0.371,0.130,0.464,0.457,0.964,0.227,19.300],\n",
        "[1.000,0.000,0.850,0.135,0.000,0.091,0.566,0.255,0.673,0.130,0.313,0.564,0.989,0.128,23.100],\n",
        "[1.000,0.043,0.000,0.647,0.000,0.792,0.515,0.908,0.106,1.000,0.914,0.809,0.883,0.344,19.900],\n",
        "[1.000,0.125,0.000,0.647,0.000,0.582,0.258,1.000,0.004,1.000,0.914,0.809,1.000,0.912,13.800],\n",
        "[1.000,0.103,0.000,0.647,0.000,0.648,0.378,1.000,0.041,1.000,0.914,0.809,1.000,0.603,11.300],\n",
        "[1.000,0.097,0.000,0.647,0.000,0.634,0.504,0.924,0.060,1.000,0.914,0.809,1.000,0.371,13.800],\n",
        "[1.000,0.108,0.000,0.647,0.000,0.634,0.545,1.000,0.046,1.000,0.914,0.809,0.948,0.513,12.100],\n",
        "[1.000,0.211,0.000,0.647,0.000,0.436,0.204,1.000,0.039,1.000,0.914,0.809,0.072,0.901,20.900],\n",
        "[1.000,0.083,0.000,0.647,0.000,0.605,0.504,0.774,0.073,1.000,0.914,0.809,0.243,0.546,11.000]]\n",
        ")\n",
        "\n",
        "new_X = new_dataset[:,:-1]\n",
        "new_y = new_dataset[:,-1:]"
      ]
    },
    {
      "cell_type": "code",
      "execution_count": 304,
      "metadata": {},
      "outputs": [
        {
          "name": "stdout",
          "output_type": "stream",
          "text": [
            "[[24.36024917]\n",
            " [22.34836515]\n",
            " [22.56704338]\n",
            " [25.55041309]\n",
            " [21.80564756]\n",
            " [22.20258111]\n",
            " [31.127792  ]\n",
            " [22.59253409]\n",
            " [23.63320466]\n",
            " [24.36141296]\n",
            " [23.84767426]\n",
            " [22.43844523]\n",
            " [29.52878713]\n",
            " [18.96171354]\n",
            " [13.63808166]\n",
            " [16.93558238]\n",
            " [19.70431347]\n",
            " [18.93449087]\n",
            " [ 4.29207349]\n",
            " [11.29896697]]\n"
          ]
        }
      ],
      "source": [
        "# Submit to Coursemology\n",
        "predicted_y = model(best_W, new_X)\n",
        "## start your code here\n",
        "\n",
        "## end\n",
        "\n",
        "print(predicted_y)"
      ]
    },
    {
      "cell_type": "markdown",
      "metadata": {
        "id": "2HmgNJsleMLN"
      },
      "source": [
        "Expected output:\n",
        "\n",
        "```\n",
        "[[24.36024917]\n",
        " [22.34836515]\n",
        " [22.56704338]\n",
        " [25.55041309]\n",
        " [21.80564756]\n",
        " [22.20258111]\n",
        " [31.127792  ]\n",
        " [22.59253409]\n",
        " [23.63320466]\n",
        " [24.36141296]\n",
        " [23.84767426]\n",
        " [22.43844523]\n",
        " [29.52878713]\n",
        " [18.96171354]\n",
        " [13.63808166]\n",
        " [16.93558238]\n",
        " [19.70431347]\n",
        " [18.93449087]\n",
        " [ 4.29207349]\n",
        " [11.29896697]]\n",
        "```"
      ]
    },
    {
      "cell_type": "markdown",
      "metadata": {
        "id": "3jCKxWpIAgRq"
      },
      "source": [
        "---\n",
        "\n",
        "### Q10 Calculating MSE (1 mark)\n",
        "\n",
        "Given our predicted y values `predicted_y` and the actual y values `new_y`, use the `mse_function` from Q6 to calculate the MSE of our predictions. A correct implementation of `mse_function` has been given to you in Coursemology (i.e. you don't need to code it again)"
      ]
    },
    {
      "cell_type": "code",
      "execution_count": 305,
      "metadata": {
        "id": "KTehnZnjAh6F"
      },
      "outputs": [
        {
          "name": "stdout",
          "output_type": "stream",
          "text": [
            "28.468249030219898\n"
          ]
        }
      ],
      "source": [
        "# Submit to Coursemology\n",
        "mse_loss = mse_function(predicted_y, new_y)\n",
        "## Start your code here\n",
        "\n",
        "## end\n",
        "\n",
        "print(mse_loss)"
      ]
    },
    {
      "cell_type": "markdown",
      "metadata": {
        "id": "tWLM5AIrePOV"
      },
      "source": [
        "Expected output:\n",
        "\n",
        "```\n",
        "28.468249030219887\n",
        "```"
      ]
    },
    {
      "cell_type": "markdown",
      "metadata": {
        "id": "k-83kPBxBA-n"
      },
      "source": [
        "**Bonus: plotting the actual y values vs the predicted y values**\n",
        "\n",
        "When you run the following code, you should get something similar to the graph shown below:\n",
        "\n",
        "![graph image here (LRGDgrph2.png)](https://drive.google.com/uc?export=view&id=16jCCxZe2nNhsDllafNwpbMd93cy-MSgv)"
      ]
    },
    {
      "cell_type": "code",
      "execution_count": null,
      "metadata": {
        "id": "bzyfcWj85kSJ"
      },
      "outputs": [],
      "source": [
        "#plot the graph showing the predictedy  values and the actual y values\n",
        "x_values = range(1,predicted_y.shape[0]+1)\n",
        "plt.plot(x_values, new_y, 'b', label=\"actual - y\")\n",
        "plt.plot(x_values, predicted_y, 'r', label=\"predicted - y\")\n",
        "plt.title(\"Actual-y and predicted-y values\")\n",
        "plt.xlabel(\"Test data sample\")\n",
        "plt.ylabel(\"Housing Price in 1000's\")\n",
        "plt.legend()\n",
        "plt.show()"
      ]
    },
    {
      "cell_type": "markdown",
      "metadata": {
        "id": "1lcW8p2hq4jf"
      },
      "source": [
        "---\n",
        "\n",
        "## Q11 Reflection (3 marks)\n",
        "\n",
        "In this question, list out the difficulties and how you overcome them when doing the assignment. You can also talk about what you have learned and how do you think we should improve the assignment here. Please list your comments in bullet points. **This section is graded**. Note that you won't get a mark when you submit this question, but you will automatically be awarded the full mark when finalising submission (subject to manual marking afterwards)"
      ]
    },
    {
      "cell_type": "markdown",
      "metadata": {
        "id": "iN_AWVpzq92u"
      },
      "source": [
        "Please enter your comments here by double-clicking on this text cell:\n",
        "* comment 1\n",
        "* comment 2\n",
        "* etc."
      ]
    },
    {
      "cell_type": "markdown",
      "metadata": {
        "id": "c0OhorHf2laz"
      },
      "source": [
        "\n",
        "---\n",
        "\n",
        "# End of Assignment"
      ]
    }
  ],
  "metadata": {
    "colab": {
      "provenance": []
    },
    "kernelspec": {
      "display_name": "Python 3",
      "name": "python3"
    },
    "language_info": {
      "codemirror_mode": {
        "name": "ipython",
        "version": 3
      },
      "file_extension": ".py",
      "mimetype": "text/x-python",
      "name": "python",
      "nbconvert_exporter": "python",
      "pygments_lexer": "ipython3",
      "version": "3.10.12"
    }
  },
  "nbformat": 4,
  "nbformat_minor": 0
}
