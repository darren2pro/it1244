{
  "cells": [
    {
      "cell_type": "markdown",
      "metadata": {
        "id": "a09uA16HdqCW"
      },
      "source": [
        "\n",
        "# Programming Assignment 5 - K-Means Clustering\n",
        "\n",
        "---\n",
        "\n",
        "## Seeds Dataset\n",
        "\n",
        "You can download the dataset here: https://archive.ics.uci.edu/ml/datasets/seeds#\n",
        "\n",
        "This dataset is obtained by examining the geometry of group comprised kernels belonging to three different varieties of wheat: Kama, Rosa and Canadian, 70 elements each, randomly selected for the experiment. A soft X-ray technique and GRAINS package were used to construct all seven, real-valued attributes. These 7 attributes are:\n",
        "1. Area A\n",
        "2. Perimeter P\n",
        "3. Compactness C=4∗π∗A/P2\n",
        "4. Length of kernel\n",
        "5. Width of kernel\n",
        "6. Asymmetry coefficient\n",
        "7. Length of kernel groove\n",
        "\n",
        "`seeds_dataset.txt` contains the actual dataset.\n",
        "\n",
        "**IMPORTANT**: you can assume that the last column will always contain the y values. However, your code will be tested against datasets of varying number of rows and columns, so do not hardcode (e.g. `[:7]`)\n",
        "\n",
        "## Objective\n",
        "\n",
        "You are to implement a K-means clustering algorithm in python to create clusters of wheat. After completing this assignment, you should be familiar with the following:\n",
        "1. Appointing a data point to a cluster\n",
        "2. Computing the sum of squares error between a cluster centroid and its points\n",
        "3. Running K-means clustering\n",
        "4. Plotting a graph of error against iterations\n",
        "\n",
        "### **Total Marks: 30**\n",
        "---"
      ]
    },
    {
      "cell_type": "markdown",
      "metadata": {},
      "source": [
        "\n",
        "## Downloading the Dataset and Importing Modules\n",
        "\n",
        "You can follow the steps below to download the dataset and upload it to a Colab environment.\n",
        "1. Download the dataset from https://archive.ics.uci.edu/ml/datasets/seeds#\n",
        "2. Open the Colab file browser by pressing the small folder icon on the top left of the Colab page.  \n",
        "3. Drag and drop the `housing.data` file into the Colab folder.\n",
        "\n",
        "We will be using `csv`, `math` and `numpy` as `np` for the questions. **You do not need to import them when submitting on Coursemology.**"
      ]
    },
    {
      "cell_type": "code",
      "execution_count": null,
      "metadata": {
        "colab": {
          "base_uri": "https://localhost:8080/"
        },
        "id": "Ry8o7bSt19Be",
        "outputId": "7184aa0e-f9be-4d37-9248-be89920bb082"
      },
      "outputs": [],
      "source": [
        "import csv\n",
        "import math\n",
        "import numpy as np\n",
        "\n",
        "# to display the float numbers with 2 decimal points and supress the use of\n",
        "# scientific notations for small numbers\n",
        "## np.set_printoptions(precision=2, suppress=True)"
      ]
    },
    {
      "cell_type": "markdown",
      "metadata": {
        "id": "kYqCgWFMbTt6"
      },
      "source": [
        "---\n",
        "\n",
        "### Q1 loadSeedData (3 marks)\n",
        "\n",
        "The function `loadSeedData` takes in a text file `f` and returns the numpy arrays `X`, comprising of the 7 attributes of each seed, and `y`, the seed's corresponding class value (which can take a value of 1, 2 or 3). Please **leave the rows and columns in the order that they appear** in the text file.\n",
        "\n",
        "Note: if you noticed, we only use `X` for the later questions and not `y`. This is because K-means clustering is an unsupervised algorithm and thus does not require labelled data."
      ]
    },
    {
      "cell_type": "code",
      "execution_count": null,
      "metadata": {
        "id": "8rxkIo0Zmmhm"
      },
      "outputs": [],
      "source": [
        "# Submit to Coursemology\n",
        "def loadSeedData(f):\n",
        "    '''\n",
        "    f: string\n",
        "    RETURN\n",
        "        X: numpy array, shape = [N, D]\n",
        "        y: numpy array, shape = [N]\n",
        "    '''\n",
        "    X, y = None, None\n",
        "    ## start your code here\n",
        "\n",
        "    \n",
        "    ## end\n",
        "    return X, y"
      ]
    },
    {
      "cell_type": "code",
      "execution_count": null,
      "metadata": {
        "colab": {
          "base_uri": "https://localhost:8080/",
          "height": 235
        },
        "id": "hHp6U9EkbnE9",
        "outputId": "24ee16ad-1fd6-4286-ccf1-daa056ec6265"
      },
      "outputs": [],
      "source": [
        "# Testing\n",
        "\n",
        "filename = 'seeds_dataset.txt'\n",
        "X, y = loadSeedData(filename)\n",
        "\n",
        "print((X[1][2], X[100,6], X[177][6]))\n",
        "print(y[1], y[100], y[177])\n",
        "print(X.shape, y.shape)"
      ]
    },
    {
      "cell_type": "markdown",
      "metadata": {
        "id": "j3w9w0otc6_Y"
      },
      "source": [
        "Expected output:\n",
        "\n",
        "```\n",
        "0.8811 5.618 4.963\n",
        "1.0 2.0 3.0\n",
        "(210, 7) (210,)\n",
        "```"
      ]
    },
    {
      "cell_type": "markdown",
      "metadata": {
        "id": "bUSwtcBucILJ"
      },
      "source": [
        "---\n",
        "\n",
        "### Q2 standardizeDataset (3 marks)\n",
        "\n",
        "As per usual, we now feature scale the data, this time using standardization.\n",
        "\n",
        "For a dataset with N rows and D columns, the function `standardizeDataset` takes in the numpy array `X` and returns the standardized array `Xstd` (of shape N x D), the array for each column's mean `meanArray` (of shape 1 x D) and the array for each column's standard deviation `stdArray` (of shape 1 x D). Return values to the **nearest 3 decimal places using `round()`**."
      ]
    },
    {
      "cell_type": "code",
      "execution_count": null,
      "metadata": {
        "id": "3TL2uwe0Zo4D"
      },
      "outputs": [],
      "source": [
        "# Submit to Coursemology\n",
        "def standardizeDataset(X):\n",
        "    '''\n",
        "    X: numpy array, shape = [N, D]\n",
        "    RETURN\n",
        "        Xstd: numpy array, shape = [N, D]\n",
        "        meanArray: numpy array, shape = [D]\n",
        "        stdArray: numpy array, shape = [D]\n",
        "    '''\n",
        "    Xstd, meanArray, stdArray = None, None, None\n",
        "    ## start your code here\n",
        "\n",
        "    \n",
        "    ## end\n",
        "    return Xstd, meanArray, stdArray"
      ]
    },
    {
      "cell_type": "code",
      "execution_count": null,
      "metadata": {
        "id": "PdsNJeczchPE"
      },
      "outputs": [],
      "source": [
        "# Testing\n",
        "\n",
        "Xstd, meanArray, stdArray = standardizeDataset(X)\n",
        "print(Xstd.shape)\n",
        "print(meanArray[3])\n",
        "print(stdArray[4])\n",
        "print(Xstd[10, 1], Xstd[1, 6], Xstd[177, 6])"
      ]
    },
    {
      "cell_type": "markdown",
      "metadata": {
        "id": "tTVflcakcw-K"
      },
      "source": [
        "Expected output:\n",
        "\n",
        "```\n",
        "(210, 7)\n",
        "5.629\n",
        "0.377\n",
        "0.223 -0.922 -0.908\n",
        "```"
      ]
    },
    {
      "cell_type": "markdown",
      "metadata": {
        "id": "QzXY8Ncr45Mn"
      },
      "source": [
        "---\n",
        "\n",
        "### Q3 euclideanDist (3 marks)\n",
        "\n",
        "We will use Euclidean distance as our similarity measure.\n",
        "\n",
        "The function `euclideanDist` takes in two rows of data `x1` and `x2` and returns the Euclidean distance `dist`."
      ]
    },
    {
      "cell_type": "code",
      "execution_count": null,
      "metadata": {
        "id": "iLpzrwlKybY9"
      },
      "outputs": [],
      "source": [
        "# Submit to Coursemology\n",
        "def euclideanDist(x1, x2):\n",
        "    '''\n",
        "    x1: numpy array, shape = [D]\n",
        "    x2: numpy array, shape = [D]\n",
        "    RETURN\n",
        "        dist: float value\n",
        "    '''\n",
        "    dist = None\n",
        "    ## start your code here\n",
        "\n",
        "    \n",
        "    ## end\n",
        "    return dist"
      ]
    },
    {
      "cell_type": "code",
      "execution_count": null,
      "metadata": {
        "id": "MSyDOle45PYG"
      },
      "outputs": [],
      "source": [
        "# Testing\n",
        "\n",
        "indx = [1, 10, 20, 60, 80, 90, 110, 140, 160, 169]\n",
        "for i in indx:\n",
        "    print(euclideanDist(Xstd[1, :], Xstd[i, :]))"
      ]
    },
    {
      "cell_type": "markdown",
      "metadata": {
        "id": "UldRNTAt5caW"
      },
      "source": [
        "Expected output:\n",
        "\n",
        "```\n",
        "0.0\n",
        "2.5586115780349417\n",
        "1.8522341627790595\n",
        "2.8933220141835188\n",
        "3.7331918523023235\n",
        "4.822853754173586\n",
        "3.1030936090537335\n",
        "3.5241204417202856\n",
        "2.897983013085987\n",
        "3.653768994815257\n",
        "```"
      ]
    },
    {
      "cell_type": "markdown",
      "metadata": {
        "id": "mYXSwoB1e8rJ"
      },
      "source": [
        "---\n",
        "\n",
        "### Q4 closestCentroid (4 marks)\n",
        "\n",
        "We need a way to help us assign our data points to a cluster.\n",
        "\n",
        "The function `closestCentroid` takes in a data point (without the class value) `coordinates_x` and a dictionary `coordinates_centroid` in the form of `{0: coordinates_0, 1: coordinates_1, ..., k: coordinates_k}` where `coordinates_k` is an array of the coordinates of the centroid of cluster `k`. It returns the key of the closest centroid cluster `closest_centroid` (i.e. 0, 1, ..., k) based on Euclidean distance. A correct implementation of `euclideanDist` has been given to you in Coursemology (i.e. you don't need to code it again)"
      ]
    },
    {
      "cell_type": "code",
      "execution_count": null,
      "metadata": {
        "id": "1I81nl3B-8FQ"
      },
      "outputs": [],
      "source": [
        "# Submit to Coursemology\n",
        "def closestCentroid(coordinates_x, coordinates_centroid):\n",
        "    '''\n",
        "    coordinates_x: numpy array, shape = [D]\n",
        "    coordinates_centroid: dictionary, key = int, value = numpy array of shape [D]\n",
        "    RETURN\n",
        "        closest_centroid: int value\n",
        "    '''\n",
        "    closest_centroid = None\n",
        "    ## start your code here\n",
        "\n",
        "    \n",
        "    ## end\n",
        "    return closest_centroid"
      ]
    },
    {
      "cell_type": "code",
      "execution_count": null,
      "metadata": {
        "id": "Ve5TrA407Xza"
      },
      "outputs": [],
      "source": [
        "# Testing\n",
        "\n",
        "coord_x1 = np.array([17.08, 15.38, 0.9079, 5.832, 3.683, 2.956, 5.484])\n",
        "coord_x2 = np.array([13.99, 13.83, 0.9183, 5.119, 3.383, 5.234, 4.781])\n",
        "coord_x3 = np.array([19.11, 16.26, 0.9081, 6.154, 3.93,  2.936, 6.079])\n",
        "coord_x4 = np.array([14.11, 14.26, 0.8722, 5.52,  3.168, 2.688, 5.219])\n",
        "\n",
        "coord_data = [coord_x1, coord_x2, coord_x3, coord_x4]\n",
        "coord_centroid = {0: np.array([18.72180328, 16.29737705, 0.88508689, 6.20893443, 3.72267213, 3.60359016, 6.06609836]),\n",
        "  1: np.array([11.96441558, 13.27480519, 0.8522    , 5.22928571, 2.87292208, 4.75974026, 5.08851948]),\n",
        "  2: np.array([14.64847222, 14.46041667, 0.87916667, 5.56377778, 3.27790278, 2.64893333, 5.19231944])}\n",
        "\n",
        "results = []\n",
        "\n",
        "for coord in coord_data:\n",
        "  results.append(closestCentroid(coord, coord_centroid))\n",
        "\n",
        "print(results)"
      ]
    },
    {
      "cell_type": "markdown",
      "metadata": {
        "id": "_C6Ktljq9WVz"
      },
      "source": [
        "Expected output:\n",
        "\n",
        "```\n",
        "[0, 1, 0, 2]\n",
        "```"
      ]
    },
    {
      "cell_type": "markdown",
      "metadata": {
        "id": "boTD4Yrff5yn"
      },
      "source": [
        "---\n",
        "\n",
        "### Q5 computeSSE (3 marks)\n",
        "\n",
        "Another standard machine learning tool that we need is the loss function, which is SSE (sum of squares error) in this case.\n",
        "\n",
        "The function `computeSSE` takes in a dictionary `repartition` in the form of `{0: array_0, 1: array_1, ..., k: array_k}` where `array_k` is composed of the coordinates of each data point in cluster `k`, and the dictionary `coordinates_centroid` as described in Q4. It returns the sum of all squared Euclidean distances between each data point and its cluster centroid `SSE`. Return values to the **nearest 4 decimal places using `round()`**. A correct implementation of `euclideanDist` has been given to you in Coursemology (i.e. you don't need to code it again)"
      ]
    },
    {
      "cell_type": "code",
      "execution_count": null,
      "metadata": {
        "id": "FaIai7IAdlxU"
      },
      "outputs": [],
      "source": [
        "# Submit to Coursemology\n",
        "def computeSSE(repartition, coordinates_centroid):\n",
        "    '''\n",
        "    repartition: dictionary, key = int, value = numpy array of shape [number of points in cluster, D]\n",
        "    coordinates_centroid: dictionary, key = int, value = numpy array of shape [D]\n",
        "    RETURN\n",
        "        SSE: float value\n",
        "    '''\n",
        "    SSE = 0\n",
        "    ## start your code here\n",
        "\n",
        "    \n",
        "    ## end\n",
        "    return SSE"
      ]
    },
    {
      "cell_type": "code",
      "execution_count": null,
      "metadata": {
        "id": "nxXcakkO_BOR"
      },
      "outputs": [],
      "source": [
        "# Testing\n",
        "\n",
        "repartition = {0: np.array([([17.08  , 15.38  ,  0.9079,  5.832 ,  3.683 ,  2.956 ,  5.484 ]),\n",
        "  ([17.63  , 15.98  ,  0.8673,  6.191 ,  3.561 ,  4.076 ,  6.06  ]),\n",
        "  ([16.84  , 15.67  ,  0.8623,  5.998 ,  3.484 ,  4.675 ,  5.877 ]),\n",
        "  ([17.26  , 15.73  ,  0.8763,  5.978 ,  3.594 ,  4.539 ,  5.791 ]),\n",
        "  ([19.11  , 16.26  ,  0.9081,  6.154 ,  3.93  ,  2.936 ,  6.079 ]),\n",
        "  ([16.82  , 15.51  ,  0.8786,  6.017 ,  3.486 ,  4.004 ,  5.841 ])]),\n",
        " 1: np.array([([13.99  , 13.83  ,  0.9183,  5.119 ,  3.383 ,  5.234 ,  4.781 ]),\n",
        "  ([12.72  , 13.57  ,  0.8686,  5.226 ,  3.049 ,  4.102 ,  4.914 ]),\n",
        "  ([13.02  , 13.76  ,  0.8641,  5.395 ,  3.026 ,  3.373 ,  4.825 ]),\n",
        "  ([14.28  , 14.17  ,  0.8944,  5.397 ,  3.298 ,  6.685 ,  5.001 ]),\n",
        "  ([11.42  , 12.86  ,  0.8683,  5.008 ,  2.85  ,  2.7   ,  4.607 ]),\n",
        "  ([11.23 , 12.63 ,  0.884,  4.902,  2.879,  2.269,  4.703]),\n",
        "  ([12.36  , 13.19  ,  0.8923,  5.076 ,  3.042 ,  3.22  ,  4.605 ]),\n",
        "  ([13.22 , 13.84 ,  0.868,  5.395,  3.07 ,  4.157,  5.088]),\n",
        "  ([12.73  , 13.75  ,  0.8458,  5.412 ,  2.882 ,  3.533 ,  5.067 ]),\n",
        "  ([13.07 , 13.92 ,  0.848,  5.472,  2.994,  5.304,  5.395]),\n",
        "  ([13.32  , 13.94  ,  0.8613,  5.541 ,  3.073 ,  7.035 ,  5.44  ])]),\n",
        " 2: np.array([([15.26 , 14.84 ,  0.871,  5.763,  3.312,  2.221,  5.22 ]),\n",
        "  ([14.88  , 14.57  ,  0.8811,  5.554 ,  3.333 ,  1.018 ,  4.956 ]),\n",
        "  ([14.29 , 14.09 ,  0.905,  5.291,  3.337,  2.699,  4.825]),\n",
        "  ([13.84  , 13.94  ,  0.8955,  5.324 ,  3.379 ,  2.259 ,  4.805 ]),\n",
        "  ([16.14  , 14.99  ,  0.9034,  5.658 ,  3.562 ,  1.355 ,  5.175 ]),\n",
        "  ([14.38  , 14.21  ,  0.8951,  5.386 ,  3.312 ,  2.462 ,  4.956 ]),\n",
        "  ([14.69  , 14.49  ,  0.8799,  5.563 ,  3.259 ,  3.586 ,  5.219 ]),\n",
        "  ([14.11  , 14.1   ,  0.8911,  5.42  ,  3.302 ,  2.7   ,  5.    ]),\n",
        "  ([16.63  , 15.46  ,  0.8747,  6.053 ,  3.465 ,  2.04  ,  5.877 ]),\n",
        "  ([16.44 , 15.25 ,  0.888,  5.884,  3.505,  1.969,  5.533]),\n",
        "  ([15.26  , 14.85  ,  0.8696,  5.714 ,  3.242 ,  4.543 ,  5.314 ])])}\n",
        "\n",
        "coord_centroid = {0: np.array([18.72180328, 16.29737705,  0.88508689,  6.20893443,  3.72267213, 3.60359016,  6.06609836]),\n",
        " 1: np.array([11.96441558, 13.27480519,  0.8522    ,  5.22928571,  2.87292208, 4.75974026,  5.08851948]),\n",
        " 2: np.array([14.64847222, 14.46041667,  0.87916667,  5.56377778,  3.27790278, 2.64893333,  5.19231944])}\n",
        "\n",
        "print(computeSSE(repartition, coord_centroid))"
      ]
    },
    {
      "cell_type": "markdown",
      "metadata": {
        "id": "X86lOpyIALZ7"
      },
      "source": [
        "Expected output:\n",
        "\n",
        "```\n",
        "95.1872\n",
        "```"
      ]
    },
    {
      "cell_type": "markdown",
      "metadata": {
        "id": "v6H1tmRz6SN-"
      },
      "source": [
        "---\n",
        "\n",
        "### Q6 KMeansClustering (8 marks)\n",
        "\n",
        "We will now do the clustering.\n",
        "\n",
        "The function `KMeansClustering` takes in a dataset `X`, the indexes of the data points used as the initial centroids `index_centroids`, the number of clusters `k` and the stopping criterion `n`. It returns the dictionary `repartition` as described in Q5, the dictionary `coordinates` that is the same as `coordinates_centroid` in Q4/5, and a list that stores the SSE of each iteration `SSE_list`. The numbering of the clusters is not important, as long as the composition and centroids of the clusters are correct. Correct implementations of `closestCentroid` and `computeSSE` have been given to you in Coursemology (i.e. you don't need to code it again)\n"
      ]
    },
    {
      "cell_type": "code",
      "execution_count": null,
      "metadata": {},
      "outputs": [],
      "source": [
        "# Submit to Coursemology\n",
        "def KMeansClustering(X, index_centroids, k, n):\n",
        "    '''\n",
        "    X: numpy array, shape = [N, D]\n",
        "    index_centroids: list, shape = [k]\n",
        "    k: int value\n",
        "    n: int value\n",
        "    RETURN\n",
        "        repartition: dictionary, key = int, value = numpy array of shape [number of points in cluster, D]\n",
        "        coordinates: dictionary, key = int, value = numpy array of shape [D]\n",
        "        SSE_list: list, shape = [n]\n",
        "    '''\n",
        "    repartition, coordinates, SSE_list = None, None, None\n",
        "    ## start your code here\n",
        "    # Initialise your first centroids\n",
        "  \n",
        "    # Define stopping criterion\n",
        "\n",
        "        # Initialise new dictionaries for repartition and coordinates\n",
        "\n",
        "        # Assign all the points to the closest cluster centroid\n",
        "\n",
        "        # Recompute the new centroids of the newly formed clusters\n",
        "    \n",
        "    ## end\n",
        "    return repartition, coordinates, SSE_list"
      ]
    },
    {
      "cell_type": "code",
      "execution_count": null,
      "metadata": {
        "id": "VNn3o5r6dHY3"
      },
      "outputs": [],
      "source": [
        "# Testing\n",
        "\n",
        "nb_rows = Xstd.shape[0]\n",
        "index_centroids = [83, 140, 28] # can be any integer number as long its within the number of datapoints\n",
        "repartition, coordinates, SSE_list = KMeansClustering(Xstd,index_centroids, 3, 100)\n",
        "print(np.sum(list(coordinates.values())))\n",
        "\n",
        "centers = []\n",
        "for i in coordinates:\n",
        "  centers.append(coordinates[i])\n",
        "\n",
        "centers2 = np.array(centers.copy())\n",
        "while len(centers2) > 0:\n",
        "  index_print = np.argmin(centers2[:,0])\n",
        "  print(centers2[index_print])\n",
        "  centers2 = np.delete(centers2,index_print,0)"
      ]
    },
    {
      "cell_type": "markdown",
      "metadata": {
        "id": "ru50Ojt5d_Wt"
      },
      "source": [
        "Expected output:\n",
        "\n",
        "```\n",
        "0.39993332340644117\n",
        "[-1.03387528 -1.00636857 -0.99853572 -0.89230372 -1.09505824  0.72393622\n",
        " -0.61279152]\n",
        "[-0.16200547 -0.19323201  0.44310121 -0.28050529 -0.01905477 -0.65268272\n",
        " -0.59848248]\n",
        "[ 1.25668163  1.26196622  0.56046437  1.23788278  1.16485187 -0.04521936\n",
        "  1.29230787]\n",
        "```"
      ]
    },
    {
      "cell_type": "markdown",
      "metadata": {
        "id": "kbx90O73cugu"
      },
      "source": [
        "---\n",
        "\n",
        "### Q7 unstandardize (1 mark)\n",
        "\n",
        "Everything's working fine, except that the cluster centroids being output are in their standardized forms. We can reverse that by reversing the equation of the standardization.\n",
        "\n",
        "The function `unstandardize` takes in a list of centroid coordinates `centers`, and `meanArray` and `stdArray` as described in Q2, and returns the list of unstandardized centroid coordinates `result`."
      ]
    },
    {
      "cell_type": "code",
      "execution_count": null,
      "metadata": {},
      "outputs": [],
      "source": [
        "# Submit to Coursemology\n",
        "def unstandardize(centers, meanArray, stdArray):\n",
        "    '''\n",
        "    centers: list, shape = [number of clusters]\n",
        "    meanArray: numpy array, shape = [D]\n",
        "    stdArray: numpy array, shape = [D]\n",
        "    RETURN\n",
        "        result: list, shape = [number of clusters]\n",
        "    '''\n",
        "    result = None\n",
        "    ## start your code here\n",
        "\n",
        "\n",
        "    ## end\n",
        "    return result"
      ]
    },
    {
      "cell_type": "code",
      "execution_count": null,
      "metadata": {
        "id": "OZOBvaRCbWFQ"
      },
      "outputs": [],
      "source": [
        "# Testing\n",
        "\n",
        "for i in unstandardize(centers, meanArray, stdArray):\n",
        "  print(i)"
      ]
    },
    {
      "cell_type": "markdown",
      "metadata": {
        "id": "8VnDKdDZ1BR8"
      },
      "source": [
        "Expected Output:\n",
        "\n",
        "```\n",
        "[18.49537313 16.20343284  0.88421045  6.17568657  3.69753731  3.63237313\n",
        "  6.04170149]\n",
        "[11.84642857 13.24814286  0.84746     5.23412857  2.84597143  4.78608571\n",
        "  5.10761429]\n",
        "[14.37726027 14.30753425  0.88144384  5.50454795  3.25142466  2.72119452\n",
        "  5.11463014]\n",
        "```"
      ]
    },
    {
      "cell_type": "markdown",
      "metadata": {
        "id": "jdYKeiMAcMmQ"
      },
      "source": [
        "---\n",
        "\n",
        "### Q8 sklearnKmeans (3 marks)\n",
        "\n",
        "While we have manually implemented K-means, we can also use libraries with pre-built functions, such as from `sklearn`. The function `KMeans` from `sklearn.cluster` has been imported for you. (https://scikit-learn.org/stable/modules/generated/sklearn.cluster.KMeans.html)\n",
        "\n",
        "The function `sklearnKmeans` takes in a dataset `X`, the number of clusters `k` and the number of iterations `m`, and returns an array of cluster numbers for each data point `position` and an array of centroid coordinates `centers`. The parameter `n_init` in `KMeans` should be set to 1."
      ]
    },
    {
      "cell_type": "code",
      "execution_count": null,
      "metadata": {
        "id": "CByEgKEra8Hx"
      },
      "outputs": [],
      "source": [
        "from sklearn.cluster import KMeans\n",
        "\n",
        "# Submit to Coursemology\n",
        "def sklearnKmeans(X, k, m):\n",
        "    '''\n",
        "    X: numpy array, shape = [N, D]\n",
        "    k: int value\n",
        "    m: int value\n",
        "    RETURN\n",
        "        position: numpy array, shape = [N]\n",
        "        centers: numpy array, shape = [k, D]\n",
        "    '''\n",
        "    position, centers = None, None\n",
        "    ## start your code here\n",
        "    \n",
        "    \n",
        "    ## end\n",
        "    return position, centers"
      ]
    },
    {
      "cell_type": "code",
      "execution_count": null,
      "metadata": {
        "id": "wdEw03IEdhMX"
      },
      "outputs": [],
      "source": [
        "# Testing\n",
        "\n",
        "position, centers = sklearnKmeans(X, 3, 100)\n",
        "\n",
        "centers2 = centers.copy()\n",
        "while len(centers2) > 0:\n",
        "  index_print = np.argmin(centers2[:, 0])\n",
        "  print(centers2[index_print])\n",
        "  centers2 = np.delete(centers2, index_print, 0)"
      ]
    },
    {
      "cell_type": "markdown",
      "metadata": {
        "id": "t9e65AbbeKqa"
      },
      "source": [
        "Expected output:\n",
        "\n",
        "```\n",
        "[11.98865854 13.28439024  0.85273659  5.22742683  2.88008537  4.58392683\n",
        "  5.0742439 ]\n",
        "[14.81910448 14.53716418  0.88052239  5.59101493  3.29935821  2.70658507\n",
        "  5.21753731]\n",
        "[18.72180328 16.29737705  0.88508689  6.20893443  3.72267213  3.60359016\n",
        "  6.06609836]\n",
        "```\n",
        "\n",
        "OR\n",
        "\n",
        "```\n",
        "[11.96441558 13.27480519  0.8522      5.22928571  2.87292208  4.75974026\n",
        "   5.08851948]\n",
        "[14.64847222 14.46041667  0.87916667  5.56377778  3.27790278  2.64893333\n",
        "   5.19231944]\n",
        " [18.72180328 16.29737705  0.88508689  6.20893443  3.72267213  3.60359016\n",
        "   6.06609836]\n",
        "```"
      ]
    },
    {
      "cell_type": "markdown",
      "metadata": {
        "id": "mDDiN57bhZmL"
      },
      "source": [
        "---\n",
        "\n",
        "### Q9 Plotting SSE for different parameters (2 marks)\n",
        "\n",
        "Let's plot the SSE for each iteration of our KMeans algorithm for different numbers of iterations. Your `KMeansClustering` from Q6 should already output a `SSE_list`. `matplotlib.pyplot` as `plt` has been imported for you.\n",
        "\n",
        "Plot the SSE (on separate graphs) for:\n",
        "* dataset `X`, `index_centroids` = [83, 140, 28], `k` = 3, `n` = 100\n",
        "* dataset `X`, `index_centroids` = [83, 140, 28], `k` = 3, `n` = 10\n",
        "\n",
        "Please upload both graphs, along with the code you used to plot in Coursemology as screenshots. Graph title and legend are optional but encouraged. Note that you won't get a mark when you submit this question, but you will automatically be awarded the full mark when finalising submission (subject to manual marking afterwards)"
      ]
    },
    {
      "cell_type": "code",
      "execution_count": null,
      "metadata": {
        "id": "XquOB53HlRaY"
      },
      "outputs": [],
      "source": [
        "import matplotlib.pyplot as plt\n",
        "nb_rows = Xstd.shape[0]\n",
        "index_centroids = [83, 140, 28]"
      ]
    },
    {
      "cell_type": "code",
      "execution_count": null,
      "metadata": {
        "id": "rvZiCw-4hc_J"
      },
      "outputs": [],
      "source": [
        "# First graph\n",
        "repartition,coordinates,SSE_list = KMeansClustering(Xstd,index_centroids, 3, 100)\n",
        "plt.plot(SSE_list)"
      ]
    },
    {
      "cell_type": "code",
      "execution_count": null,
      "metadata": {
        "id": "qUYh7B0Sl-ii"
      },
      "outputs": [],
      "source": [
        "# Second graph\n",
        "repartition1,coordinates1,SSE_list1 = KMeansClustering(Xstd,index_centroids, 3, 10)\n",
        "plt.plot(SSE_list1)"
      ]
    },
    {
      "cell_type": "markdown",
      "metadata": {},
      "source": [
        "---\n",
        "\n",
        "# End of Assignment"
      ]
    }
  ],
  "metadata": {
    "colab": {
      "provenance": []
    },
    "kernelspec": {
      "display_name": "Python 3",
      "name": "python3"
    },
    "language_info": {
      "codemirror_mode": {
        "name": "ipython",
        "version": 3
      },
      "file_extension": ".py",
      "mimetype": "text/x-python",
      "name": "python",
      "nbconvert_exporter": "python",
      "pygments_lexer": "ipython3",
      "version": "3.10.12"
    }
  },
  "nbformat": 4,
  "nbformat_minor": 0
}
